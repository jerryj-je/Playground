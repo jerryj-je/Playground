{
 "cells": [
  {
   "cell_type": "code",
   "execution_count": 1,
   "id": "f099b4da",
   "metadata": {
    "_cell_guid": "b1076dfc-b9ad-4769-8c92-a6c4dae69d19",
    "_uuid": "8f2839f25d086af736a60e9eeb907d3b93b6e0e5",
    "execution": {
     "iopub.execute_input": "2025-04-08T15:26:18.012719Z",
     "iopub.status.busy": "2025-04-08T15:26:18.012321Z",
     "iopub.status.idle": "2025-04-08T15:26:18.995540Z",
     "shell.execute_reply": "2025-04-08T15:26:18.994221Z"
    },
    "papermill": {
     "duration": 0.991466,
     "end_time": "2025-04-08T15:26:18.997393",
     "exception": false,
     "start_time": "2025-04-08T15:26:18.005927",
     "status": "completed"
    },
    "tags": []
   },
   "outputs": [
    {
     "name": "stdout",
     "output_type": "stream",
     "text": [
      "/kaggle/input/digit-recognizer/sample_submission.csv\n",
      "/kaggle/input/digit-recognizer/train.csv\n",
      "/kaggle/input/digit-recognizer/test.csv\n"
     ]
    }
   ],
   "source": [
    "# This Python 3 environment comes with many helpful analytics libraries installed\n",
    "# It is defined by the kaggle/python Docker image: https://github.com/kaggle/docker-python\n",
    "# For example, here's several helpful packages to load\n",
    "\n",
    "import numpy as np # linear algebra\n",
    "import pandas as pd # data processing, CSV file I/O (e.g. pd.read_csv)\n",
    "\n",
    "# Input data files are available in the read-only \"../input/\" directory\n",
    "# For example, running this (by clicking run or pressing Shift+Enter) will list all files under the input directory\n",
    "\n",
    "import os\n",
    "for dirname, _, filenames in os.walk('/kaggle/input'):\n",
    "    for filename in filenames:\n",
    "        print(os.path.join(dirname, filename))\n",
    "\n",
    "# You can write up to 20GB to the current directory (/kaggle/working/) that gets preserved as output when you create a version using \"Save & Run All\" \n",
    "# You can also write temporary files to /kaggle/temp/, but they won't be saved outside of the current session"
   ]
  },
  {
   "cell_type": "code",
   "execution_count": 2,
   "id": "466efda2",
   "metadata": {
    "execution": {
     "iopub.execute_input": "2025-04-08T15:26:19.008647Z",
     "iopub.status.busy": "2025-04-08T15:26:19.008141Z",
     "iopub.status.idle": "2025-04-08T15:26:24.310197Z",
     "shell.execute_reply": "2025-04-08T15:26:24.309114Z"
    },
    "papermill": {
     "duration": 5.309941,
     "end_time": "2025-04-08T15:26:24.312394",
     "exception": false,
     "start_time": "2025-04-08T15:26:19.002453",
     "status": "completed"
    },
    "tags": []
   },
   "outputs": [],
   "source": [
    "df = pd.read_csv('/kaggle/input/digit-recognizer/train.csv')\n",
    "df1 = pd.read_csv('/kaggle/input/digit-recognizer/test.csv')"
   ]
  },
  {
   "cell_type": "code",
   "execution_count": 3,
   "id": "99808f8f",
   "metadata": {
    "execution": {
     "iopub.execute_input": "2025-04-08T15:26:24.322956Z",
     "iopub.status.busy": "2025-04-08T15:26:24.322602Z",
     "iopub.status.idle": "2025-04-08T15:26:26.336963Z",
     "shell.execute_reply": "2025-04-08T15:26:26.335850Z"
    },
    "papermill": {
     "duration": 2.021819,
     "end_time": "2025-04-08T15:26:26.338837",
     "exception": false,
     "start_time": "2025-04-08T15:26:24.317018",
     "status": "completed"
    },
    "tags": []
   },
   "outputs": [
    {
     "name": "stdout",
     "output_type": "stream",
     "text": [
      "(42000, 785)\n",
      "(28000, 784)\n"
     ]
    }
   ],
   "source": [
    "print(df.shape)\n",
    "df.describe()\n",
    "print(df1.shape)"
   ]
  },
  {
   "cell_type": "markdown",
   "id": "d422216a",
   "metadata": {
    "papermill": {
     "duration": 0.004481,
     "end_time": "2025-04-08T15:26:26.348247",
     "exception": false,
     "start_time": "2025-04-08T15:26:26.343766",
     "status": "completed"
    },
    "tags": []
   },
   "source": [
    "Data preparation "
   ]
  },
  {
   "cell_type": "code",
   "execution_count": 4,
   "id": "dd2ae818",
   "metadata": {
    "execution": {
     "iopub.execute_input": "2025-04-08T15:26:26.359132Z",
     "iopub.status.busy": "2025-04-08T15:26:26.358736Z",
     "iopub.status.idle": "2025-04-08T15:26:26.448701Z",
     "shell.execute_reply": "2025-04-08T15:26:26.447622Z"
    },
    "papermill": {
     "duration": 0.097835,
     "end_time": "2025-04-08T15:26:26.450776",
     "exception": false,
     "start_time": "2025-04-08T15:26:26.352941",
     "status": "completed"
    },
    "tags": []
   },
   "outputs": [],
   "source": [
    "x_train = df.drop(columns= 'label')\n",
    "y_train = df['label']\n",
    "x_finalt = df1"
   ]
  },
  {
   "cell_type": "code",
   "execution_count": 5,
   "id": "4b7f26e0",
   "metadata": {
    "execution": {
     "iopub.execute_input": "2025-04-08T15:26:26.461621Z",
     "iopub.status.busy": "2025-04-08T15:26:26.461237Z",
     "iopub.status.idle": "2025-04-08T15:26:26.485783Z",
     "shell.execute_reply": "2025-04-08T15:26:26.484599Z"
    },
    "papermill": {
     "duration": 0.032022,
     "end_time": "2025-04-08T15:26:26.487665",
     "exception": false,
     "start_time": "2025-04-08T15:26:26.455643",
     "status": "completed"
    },
    "tags": []
   },
   "outputs": [
    {
     "name": "stdout",
     "output_type": "stream",
     "text": [
      "0    1\n",
      "1    0\n",
      "2    1\n",
      "3    4\n",
      "4    0\n",
      "Name: label, dtype: int64\n",
      "   pixel0  pixel1  pixel2  pixel3  pixel4  pixel5  pixel6  pixel7  pixel8  \\\n",
      "0       0       0       0       0       0       0       0       0       0   \n",
      "1       0       0       0       0       0       0       0       0       0   \n",
      "2       0       0       0       0       0       0       0       0       0   \n",
      "3       0       0       0       0       0       0       0       0       0   \n",
      "4       0       0       0       0       0       0       0       0       0   \n",
      "\n",
      "   pixel9  ...  pixel774  pixel775  pixel776  pixel777  pixel778  pixel779  \\\n",
      "0       0  ...         0         0         0         0         0         0   \n",
      "1       0  ...         0         0         0         0         0         0   \n",
      "2       0  ...         0         0         0         0         0         0   \n",
      "3       0  ...         0         0         0         0         0         0   \n",
      "4       0  ...         0         0         0         0         0         0   \n",
      "\n",
      "   pixel780  pixel781  pixel782  pixel783  \n",
      "0         0         0         0         0  \n",
      "1         0         0         0         0  \n",
      "2         0         0         0         0  \n",
      "3         0         0         0         0  \n",
      "4         0         0         0         0  \n",
      "\n",
      "[5 rows x 784 columns]\n"
     ]
    },
    {
     "data": {
      "text/plain": [
       "label\n",
       "1    4684\n",
       "7    4401\n",
       "3    4351\n",
       "9    4188\n",
       "2    4177\n",
       "6    4137\n",
       "0    4132\n",
       "4    4072\n",
       "8    4063\n",
       "5    3795\n",
       "Name: count, dtype: int64"
      ]
     },
     "execution_count": 5,
     "metadata": {},
     "output_type": "execute_result"
    }
   ],
   "source": [
    "print(y_train.head())\n",
    "print(x_train.head())\n",
    "y_train.value_counts()"
   ]
  },
  {
   "cell_type": "code",
   "execution_count": 6,
   "id": "12a32cb8",
   "metadata": {
    "execution": {
     "iopub.execute_input": "2025-04-08T15:26:26.498532Z",
     "iopub.status.busy": "2025-04-08T15:26:26.498192Z",
     "iopub.status.idle": "2025-04-08T15:26:26.513310Z",
     "shell.execute_reply": "2025-04-08T15:26:26.512331Z"
    },
    "papermill": {
     "duration": 0.022772,
     "end_time": "2025-04-08T15:26:26.515193",
     "exception": false,
     "start_time": "2025-04-08T15:26:26.492421",
     "status": "completed"
    },
    "tags": []
   },
   "outputs": [
    {
     "data": {
      "text/plain": [
       "0"
      ]
     },
     "execution_count": 6,
     "metadata": {},
     "output_type": "execute_result"
    }
   ],
   "source": [
    "x_train.isnull().any().sum()\n",
    "y_train.isnull().any().sum()"
   ]
  },
  {
   "cell_type": "markdown",
   "id": "d59e7343",
   "metadata": {
    "papermill": {
     "duration": 0.004617,
     "end_time": "2025-04-08T15:26:26.525142",
     "exception": false,
     "start_time": "2025-04-08T15:26:26.520525",
     "status": "completed"
    },
    "tags": []
   },
   "source": [
    "no null values or no missing pixel values"
   ]
  },
  {
   "cell_type": "code",
   "execution_count": 7,
   "id": "a785cadc",
   "metadata": {
    "execution": {
     "iopub.execute_input": "2025-04-08T15:26:26.536423Z",
     "iopub.status.busy": "2025-04-08T15:26:26.536020Z",
     "iopub.status.idle": "2025-04-08T15:26:28.584422Z",
     "shell.execute_reply": "2025-04-08T15:26:28.583368Z"
    },
    "papermill": {
     "duration": 2.056355,
     "end_time": "2025-04-08T15:26:28.586414",
     "exception": false,
     "start_time": "2025-04-08T15:26:26.530059",
     "status": "completed"
    },
    "tags": []
   },
   "outputs": [],
   "source": [
    "#minmax scaling\n",
    "from sklearn.preprocessing import MinMaxScaler\n",
    "scaler = MinMaxScaler()\n",
    "x_trainN = scaler.fit_transform(x_train)\n",
    "x_testN = scaler.fit_transform(x_finalt)"
   ]
  },
  {
   "cell_type": "code",
   "execution_count": 8,
   "id": "0557c868",
   "metadata": {
    "execution": {
     "iopub.execute_input": "2025-04-08T15:26:28.597981Z",
     "iopub.status.busy": "2025-04-08T15:26:28.597413Z",
     "iopub.status.idle": "2025-04-08T15:26:28.602672Z",
     "shell.execute_reply": "2025-04-08T15:26:28.601413Z"
    },
    "papermill": {
     "duration": 0.012679,
     "end_time": "2025-04-08T15:26:28.604196",
     "exception": false,
     "start_time": "2025-04-08T15:26:28.591517",
     "status": "completed"
    },
    "tags": []
   },
   "outputs": [
    {
     "name": "stdout",
     "output_type": "stream",
     "text": [
      "(42000, 28, 28, 1)\n"
     ]
    }
   ],
   "source": [
    "x_trainN = x_trainN.reshape(-1,28,28,1)\n",
    "x_testN = x_testN.reshape(-1,28,28,1)\n",
    "print(x_trainN.shape)"
   ]
  },
  {
   "cell_type": "code",
   "execution_count": 9,
   "id": "d21385b2",
   "metadata": {
    "execution": {
     "iopub.execute_input": "2025-04-08T15:26:28.615383Z",
     "iopub.status.busy": "2025-04-08T15:26:28.614990Z",
     "iopub.status.idle": "2025-04-08T15:26:28.638464Z",
     "shell.execute_reply": "2025-04-08T15:26:28.637357Z"
    },
    "papermill": {
     "duration": 0.03094,
     "end_time": "2025-04-08T15:26:28.640226",
     "exception": false,
     "start_time": "2025-04-08T15:26:28.609286",
     "status": "completed"
    },
    "tags": []
   },
   "outputs": [
    {
     "data": {
      "text/html": [
       "<div>\n",
       "<style scoped>\n",
       "    .dataframe tbody tr th:only-of-type {\n",
       "        vertical-align: middle;\n",
       "    }\n",
       "\n",
       "    .dataframe tbody tr th {\n",
       "        vertical-align: top;\n",
       "    }\n",
       "\n",
       "    .dataframe thead th {\n",
       "        text-align: right;\n",
       "    }\n",
       "</style>\n",
       "<table border=\"1\" class=\"dataframe\">\n",
       "  <thead>\n",
       "    <tr style=\"text-align: right;\">\n",
       "      <th></th>\n",
       "      <th>0</th>\n",
       "      <th>1</th>\n",
       "      <th>2</th>\n",
       "      <th>3</th>\n",
       "      <th>4</th>\n",
       "      <th>5</th>\n",
       "      <th>6</th>\n",
       "      <th>7</th>\n",
       "      <th>8</th>\n",
       "      <th>9</th>\n",
       "    </tr>\n",
       "  </thead>\n",
       "  <tbody>\n",
       "    <tr>\n",
       "      <th>0</th>\n",
       "      <td>False</td>\n",
       "      <td>True</td>\n",
       "      <td>False</td>\n",
       "      <td>False</td>\n",
       "      <td>False</td>\n",
       "      <td>False</td>\n",
       "      <td>False</td>\n",
       "      <td>False</td>\n",
       "      <td>False</td>\n",
       "      <td>False</td>\n",
       "    </tr>\n",
       "    <tr>\n",
       "      <th>1</th>\n",
       "      <td>True</td>\n",
       "      <td>False</td>\n",
       "      <td>False</td>\n",
       "      <td>False</td>\n",
       "      <td>False</td>\n",
       "      <td>False</td>\n",
       "      <td>False</td>\n",
       "      <td>False</td>\n",
       "      <td>False</td>\n",
       "      <td>False</td>\n",
       "    </tr>\n",
       "    <tr>\n",
       "      <th>2</th>\n",
       "      <td>False</td>\n",
       "      <td>True</td>\n",
       "      <td>False</td>\n",
       "      <td>False</td>\n",
       "      <td>False</td>\n",
       "      <td>False</td>\n",
       "      <td>False</td>\n",
       "      <td>False</td>\n",
       "      <td>False</td>\n",
       "      <td>False</td>\n",
       "    </tr>\n",
       "    <tr>\n",
       "      <th>3</th>\n",
       "      <td>False</td>\n",
       "      <td>False</td>\n",
       "      <td>False</td>\n",
       "      <td>False</td>\n",
       "      <td>True</td>\n",
       "      <td>False</td>\n",
       "      <td>False</td>\n",
       "      <td>False</td>\n",
       "      <td>False</td>\n",
       "      <td>False</td>\n",
       "    </tr>\n",
       "    <tr>\n",
       "      <th>4</th>\n",
       "      <td>True</td>\n",
       "      <td>False</td>\n",
       "      <td>False</td>\n",
       "      <td>False</td>\n",
       "      <td>False</td>\n",
       "      <td>False</td>\n",
       "      <td>False</td>\n",
       "      <td>False</td>\n",
       "      <td>False</td>\n",
       "      <td>False</td>\n",
       "    </tr>\n",
       "  </tbody>\n",
       "</table>\n",
       "</div>"
      ],
      "text/plain": [
       "       0      1      2      3      4      5      6      7      8      9\n",
       "0  False   True  False  False  False  False  False  False  False  False\n",
       "1   True  False  False  False  False  False  False  False  False  False\n",
       "2  False   True  False  False  False  False  False  False  False  False\n",
       "3  False  False  False  False   True  False  False  False  False  False\n",
       "4   True  False  False  False  False  False  False  False  False  False"
      ]
     },
     "execution_count": 9,
     "metadata": {},
     "output_type": "execute_result"
    }
   ],
   "source": [
    "#hotencoding the y\n",
    "y_trainE = pd.get_dummies(y_train)\n",
    "y_trainE.head()"
   ]
  },
  {
   "cell_type": "code",
   "execution_count": 10,
   "id": "55827abe",
   "metadata": {
    "execution": {
     "iopub.execute_input": "2025-04-08T15:26:28.651964Z",
     "iopub.status.busy": "2025-04-08T15:26:28.651582Z",
     "iopub.status.idle": "2025-04-08T15:26:29.215785Z",
     "shell.execute_reply": "2025-04-08T15:26:29.214606Z"
    },
    "papermill": {
     "duration": 0.57231,
     "end_time": "2025-04-08T15:26:29.217772",
     "exception": false,
     "start_time": "2025-04-08T15:26:28.645462",
     "status": "completed"
    },
    "tags": []
   },
   "outputs": [],
   "source": [
    "from sklearn.model_selection import train_test_split\n",
    "x_train, x_test, y_train, y_test = train_test_split(x_trainN,y_trainE,test_size = 0.2, random_state=42)"
   ]
  },
  {
   "cell_type": "code",
   "execution_count": 11,
   "id": "2db30eff",
   "metadata": {
    "execution": {
     "iopub.execute_input": "2025-04-08T15:26:29.230480Z",
     "iopub.status.busy": "2025-04-08T15:26:29.230086Z",
     "iopub.status.idle": "2025-04-08T15:26:29.522259Z",
     "shell.execute_reply": "2025-04-08T15:26:29.521144Z"
    },
    "papermill": {
     "duration": 0.300678,
     "end_time": "2025-04-08T15:26:29.524344",
     "exception": false,
     "start_time": "2025-04-08T15:26:29.223666",
     "status": "completed"
    },
    "tags": []
   },
   "outputs": [
    {
     "data": {
      "image/png": "[encoded data removed]",
      "text/plain": [
       "<Figure size 640x480 with 1 Axes>"
      ]
     },
     "metadata": {},
     "output_type": "display_data"
    }
   ],
   "source": [
    "import matplotlib.pyplot as plt\n",
    "# Some examples\n",
    "g = plt.imshow(x_train[0][:,:,0])\n"
   ]
  },
  {
   "cell_type": "code",
   "execution_count": 12,
   "id": "9ffbf049",
   "metadata": {
    "execution": {
     "iopub.execute_input": "2025-04-08T15:26:29.537768Z",
     "iopub.status.busy": "2025-04-08T15:26:29.537364Z",
     "iopub.status.idle": "2025-04-08T15:26:44.765375Z",
     "shell.execute_reply": "2025-04-08T15:26:44.764187Z"
    },
    "papermill": {
     "duration": 15.23694,
     "end_time": "2025-04-08T15:26:44.767337",
     "exception": false,
     "start_time": "2025-04-08T15:26:29.530397",
     "status": "completed"
    },
    "tags": []
   },
   "outputs": [
    {
     "name": "stderr",
     "output_type": "stream",
     "text": [
      "/usr/local/lib/python3.10/dist-packages/keras/src/layers/convolutional/base_conv.py:107: UserWarning: Do not pass an `input_shape`/`input_dim` argument to a layer. When using Sequential models, prefer using an `Input(shape)` object as the first layer in the model instead.\n",
      "  super().__init__(activity_regularizer=activity_regularizer, **kwargs)\n"
     ]
    }
   ],
   "source": [
    "from keras.models import Sequential\n",
    "from tensorflow.keras.layers import Conv2D, MaxPooling2D, Flatten, Dense, Dropout\n",
    "model = Sequential()\n",
    "model.add(Conv2D(32, kernel_size=(3, 3), activation='relu', input_shape=(28, 28, 1)))\n",
    "model.add(MaxPooling2D(pool_size=(2, 2)))\n",
    "model.add(Conv2D(32, kernel_size=(3,3),activation='relu'))\n",
    "model.add(MaxPooling2D(pool_size=(2,2)))\n",
    "model.add(Dropout(0.2))\n",
    "model.add(Flatten())\n",
    "model.add(Dense(128, activation='relu'))\n",
    "model.add(Dropout(0.2))\n",
    "model.add(Dense(10,activation='softmax'))"
   ]
  },
  {
   "cell_type": "code",
   "execution_count": 13,
   "id": "12a6560c",
   "metadata": {
    "execution": {
     "iopub.execute_input": "2025-04-08T15:26:44.780621Z",
     "iopub.status.busy": "2025-04-08T15:26:44.779941Z",
     "iopub.status.idle": "2025-04-08T15:26:44.796465Z",
     "shell.execute_reply": "2025-04-08T15:26:44.795182Z"
    },
    "papermill": {
     "duration": 0.025068,
     "end_time": "2025-04-08T15:26:44.798380",
     "exception": false,
     "start_time": "2025-04-08T15:26:44.773312",
     "status": "completed"
    },
    "tags": []
   },
   "outputs": [],
   "source": [
    "from keras.optimizers import Adam\n",
    "model.compile(optimizer =Adam(learning_rate=0.001),loss = \"categorical_crossentropy\", metrics=[\"accuracy\"])"
   ]
  },
  {
   "cell_type": "code",
   "execution_count": 14,
   "id": "8c69c791",
   "metadata": {
    "execution": {
     "iopub.execute_input": "2025-04-08T15:26:44.811001Z",
     "iopub.status.busy": "2025-04-08T15:26:44.810593Z",
     "iopub.status.idle": "2025-04-08T15:30:49.498454Z",
     "shell.execute_reply": "2025-04-08T15:30:49.497498Z"
    },
    "papermill": {
     "duration": 244.696334,
     "end_time": "2025-04-08T15:30:49.500339",
     "exception": false,
     "start_time": "2025-04-08T15:26:44.804005",
     "status": "completed"
    },
    "tags": []
   },
   "outputs": [
    {
     "name": "stdout",
     "output_type": "stream",
     "text": [
      "Epoch 1/20\n",
      "391/391 - 14s - 36ms/step - accuracy: 0.8895 - loss: 0.3580 - val_accuracy: 0.9706 - val_loss: 0.0938\n",
      "Epoch 2/20\n",
      "391/391 - 11s - 29ms/step - accuracy: 0.9687 - loss: 0.1006 - val_accuracy: 0.9786 - val_loss: 0.0625\n",
      "Epoch 3/20\n",
      "391/391 - 12s - 30ms/step - accuracy: 0.9787 - loss: 0.0703 - val_accuracy: 0.9854 - val_loss: 0.0481\n",
      "Epoch 4/20\n",
      "391/391 - 11s - 29ms/step - accuracy: 0.9811 - loss: 0.0621 - val_accuracy: 0.9864 - val_loss: 0.0433\n",
      "Epoch 5/20\n",
      "391/391 - 11s - 28ms/step - accuracy: 0.9836 - loss: 0.0522 - val_accuracy: 0.9845 - val_loss: 0.0437\n",
      "Epoch 6/20\n",
      "391/391 - 12s - 30ms/step - accuracy: 0.9857 - loss: 0.0448 - val_accuracy: 0.9879 - val_loss: 0.0357\n",
      "Epoch 7/20\n",
      "391/391 - 11s - 28ms/step - accuracy: 0.9875 - loss: 0.0399 - val_accuracy: 0.9885 - val_loss: 0.0348\n",
      "Epoch 8/20\n",
      "391/391 - 11s - 28ms/step - accuracy: 0.9877 - loss: 0.0359 - val_accuracy: 0.9876 - val_loss: 0.0368\n",
      "Epoch 9/20\n",
      "391/391 - 11s - 29ms/step - accuracy: 0.9897 - loss: 0.0305 - val_accuracy: 0.9902 - val_loss: 0.0328\n",
      "Epoch 10/20\n",
      "391/391 - 11s - 28ms/step - accuracy: 0.9912 - loss: 0.0262 - val_accuracy: 0.9901 - val_loss: 0.0299\n",
      "Epoch 11/20\n",
      "391/391 - 11s - 28ms/step - accuracy: 0.9922 - loss: 0.0234 - val_accuracy: 0.9914 - val_loss: 0.0274\n",
      "Epoch 12/20\n",
      "391/391 - 20s - 52ms/step - accuracy: 0.9913 - loss: 0.0252 - val_accuracy: 0.9915 - val_loss: 0.0324\n",
      "Epoch 13/20\n",
      "391/391 - 11s - 28ms/step - accuracy: 0.9928 - loss: 0.0224 - val_accuracy: 0.9908 - val_loss: 0.0298\n",
      "Epoch 14/20\n",
      "391/391 - 11s - 29ms/step - accuracy: 0.9926 - loss: 0.0219 - val_accuracy: 0.9914 - val_loss: 0.0308\n",
      "Epoch 15/20\n",
      "391/391 - 11s - 27ms/step - accuracy: 0.9938 - loss: 0.0193 - val_accuracy: 0.9918 - val_loss: 0.0293\n",
      "Epoch 16/20\n",
      "391/391 - 11s - 28ms/step - accuracy: 0.9943 - loss: 0.0183 - val_accuracy: 0.9917 - val_loss: 0.0332\n",
      "Epoch 17/20\n",
      "391/391 - 11s - 29ms/step - accuracy: 0.9945 - loss: 0.0171 - val_accuracy: 0.9915 - val_loss: 0.0302\n",
      "Epoch 18/20\n",
      "391/391 - 11s - 28ms/step - accuracy: 0.9949 - loss: 0.0152 - val_accuracy: 0.9926 - val_loss: 0.0300\n",
      "Epoch 19/20\n",
      "391/391 - 21s - 54ms/step - accuracy: 0.9946 - loss: 0.0168 - val_accuracy: 0.9930 - val_loss: 0.0264\n",
      "Epoch 20/20\n",
      "391/391 - 11s - 28ms/step - accuracy: 0.9955 - loss: 0.0127 - val_accuracy: 0.9924 - val_loss: 0.0297\n"
     ]
    }
   ],
   "source": [
    "epochs = 20\n",
    "batch_size = 86\n",
    "history=model.fit(x_train,y_train, batch_size=batch_size, epochs = epochs, \n",
    "                  validation_data = (x_test,y_test),verbose = 2)\n",
    "##overfitting?improve with augmentation.."
   ]
  },
  {
   "cell_type": "code",
   "execution_count": 15,
   "id": "60d8db04",
   "metadata": {
    "execution": {
     "iopub.execute_input": "2025-04-08T15:30:49.516898Z",
     "iopub.status.busy": "2025-04-08T15:30:49.516490Z",
     "iopub.status.idle": "2025-04-08T15:30:49.939654Z",
     "shell.execute_reply": "2025-04-08T15:30:49.938468Z"
    },
    "papermill": {
     "duration": 0.433647,
     "end_time": "2025-04-08T15:30:49.941625",
     "exception": false,
     "start_time": "2025-04-08T15:30:49.507978",
     "status": "completed"
    },
    "tags": []
   },
   "outputs": [
    {
     "data": {
      "text/plain": [
       "Text(0, 0.5, 'Loss')"
      ]
     },
     "execution_count": 15,
     "metadata": {},
     "output_type": "execute_result"
    },
    {
     "data": {
      "image/png": "[encoded data removed]",
      "text/plain": [
       "<Figure size 640x480 with 2 Axes>"
      ]
     },
     "metadata": {},
     "output_type": "display_data"
    }
   ],
   "source": [
    "fig, ax = plt.subplots(2,1)\n",
    "ax[0].plot(history.history['loss'], color='b', label=\"Training loss\")\n",
    "ax[0].plot(history.history['val_loss'], color='r', label=\"validation loss\")\n",
    "legend = ax[0].legend(loc='best', shadow=True)\n",
    "ax[0].set_xlabel('Epochs')  \n",
    "ax[0].set_ylabel('Loss') \n",
    "\n",
    "ax[1].plot(history.history['accuracy'], color='b', label=\"Training accuracy\")\n",
    "ax[1].plot(history.history['val_accuracy'], color='r',label=\"Validation accuracy\")\n",
    "legend = ax[1].legend(loc='best', shadow=True)\n",
    "ax[1].set_xlabel('Epochs')  # X-axis label (epochs)\n",
    "ax[1].set_ylabel('Loss') "
   ]
  },
  {
   "cell_type": "code",
   "execution_count": 16,
   "id": "46f17c9c",
   "metadata": {
    "execution": {
     "iopub.execute_input": "2025-04-08T15:30:49.960301Z",
     "iopub.status.busy": "2025-04-08T15:30:49.959910Z",
     "iopub.status.idle": "2025-04-08T15:30:52.383887Z",
     "shell.execute_reply": "2025-04-08T15:30:52.382710Z"
    },
    "papermill": {
     "duration": 2.435241,
     "end_time": "2025-04-08T15:30:52.385597",
     "exception": false,
     "start_time": "2025-04-08T15:30:49.950356",
     "status": "completed"
    },
    "tags": []
   },
   "outputs": [
    {
     "name": "stdout",
     "output_type": "stream",
     "text": [
      "\u001b[1m263/263\u001b[0m \u001b[32m━━━━━━━━━━━━━━━━━━━━\u001b[0m\u001b[37m\u001b[0m \u001b[1m1s\u001b[0m 5ms/step\n"
     ]
    },
    {
     "data": {
      "image/png": "[encoded data removed]",
      "text/plain": [
       "<Figure size 800x500 with 2 Axes>"
      ]
     },
     "metadata": {},
     "output_type": "display_data"
    }
   ],
   "source": [
    "from sklearn.metrics import confusion_matrix\n",
    "import seaborn as sns\n",
    "\n",
    "y_pred = model.predict(x_test)\n",
    "\n",
    "#convert all to true\n",
    "Y_pred = np.argmax(y_pred, axis=1)\n",
    "Y_true = np.argmax(y_test, axis=1)\n",
    "cm = confusion_matrix(Y_true,Y_pred)\n",
    "#cm = confusion_matrix(y_test,y_pred)\n",
    "plt.figure(figsize=(8,5))\n",
    "sns.heatmap(cm,annot=True,cmap='Blues',fmt= 'd')\n",
    "plt.show()"
   ]
  },
  {
   "cell_type": "code",
   "execution_count": 17,
   "id": "a323233e",
   "metadata": {
    "execution": {
     "iopub.execute_input": "2025-04-08T15:30:52.412636Z",
     "iopub.status.busy": "2025-04-08T15:30:52.411736Z",
     "iopub.status.idle": "2025-04-08T15:30:57.172593Z",
     "shell.execute_reply": "2025-04-08T15:30:57.171357Z"
    },
    "papermill": {
     "duration": 4.777791,
     "end_time": "2025-04-08T15:30:57.174561",
     "exception": false,
     "start_time": "2025-04-08T15:30:52.396770",
     "status": "completed"
    },
    "tags": []
   },
   "outputs": [
    {
     "name": "stdout",
     "output_type": "stream",
     "text": [
      "\u001b[1m875/875\u001b[0m \u001b[32m━━━━━━━━━━━━━━━━━━━━\u001b[0m\u001b[37m\u001b[0m \u001b[1m4s\u001b[0m 5ms/step\n"
     ]
    }
   ],
   "source": [
    "\n",
    "result = model.predict(x_testN)\n",
    "result = np.argmax(result, axis= 1)\n",
    "\n",
    "submissions=pd.DataFrame({\"ImageId\": list(range(1,len(result)+1)),\n",
    "                         \"Label\": result})"
   ]
  },
  {
   "cell_type": "code",
   "execution_count": 18,
   "id": "d74c146d",
   "metadata": {
    "execution": {
     "iopub.execute_input": "2025-04-08T15:30:57.207986Z",
     "iopub.status.busy": "2025-04-08T15:30:57.207599Z",
     "iopub.status.idle": "2025-04-08T15:30:57.236603Z",
     "shell.execute_reply": "2025-04-08T15:30:57.235641Z"
    },
    "papermill": {
     "duration": 0.048105,
     "end_time": "2025-04-08T15:30:57.238516",
     "exception": false,
     "start_time": "2025-04-08T15:30:57.190411",
     "status": "completed"
    },
    "tags": []
   },
   "outputs": [],
   "source": [
    "submissions.to_csv(\"final.csv\", index=False, header=True)"
   ]
  }
 ],
 "metadata": {
  "kaggle": {
   "accelerator": "none",
   "dataSources": [
    {
     "databundleVersionId": 861823,
     "sourceId": 3004,
     "sourceType": "competition"
    }
   ],
   "dockerImageVersionId": 30918,
   "isGpuEnabled": false,
   "isInternetEnabled": false,
   "language": "python",
   "sourceType": "notebook"
  },
  "kernelspec": {
   "display_name": "Python 3",
   "language": "python",
   "name": "python3"
  },
  "language_info": {
   "codemirror_mode": {
    "name": "ipython",
    "version": 3
   },
   "file_extension": ".py",
   "mimetype": "text/x-python",
   "name": "python",
   "nbconvert_exporter": "python",
   "pygments_lexer": "ipython3",
   "version": "3.10.12"
  },
  "papermill": {
   "default_parameters": {},
   "duration": 284.945057,
   "end_time": "2025-04-08T15:30:59.971424",
   "environment_variables": {},
   "exception": null,
   "input_path": "__notebook__.ipynb",
   "output_path": "__notebook__.ipynb",
   "parameters": {},
   "start_time": "2025-04-08T15:26:15.026367",
   "version": "2.6.0"
  }
 },
 "nbformat": 4,
 "nbformat_minor": 5
}
