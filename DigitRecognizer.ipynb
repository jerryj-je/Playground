{
 "cells": [
  {
   "cell_type": "code",
   "execution_count": 1,
   "id": "bc50a2c3",
   "metadata": {
    "_cell_guid": "b1076dfc-b9ad-4769-8c92-a6c4dae69d19",
    "_uuid": "8f2839f25d086af736a60e9eeb907d3b93b6e0e5",
    "execution": {
     "iopub.execute_input": "2025-04-08T14:53:14.448150Z",
     "iopub.status.busy": "2025-04-08T14:53:14.447585Z",
     "iopub.status.idle": "2025-04-08T14:53:15.449443Z",
     "shell.execute_reply": "2025-04-08T14:53:15.447534Z"
    },
    "papermill": {
     "duration": 1.011477,
     "end_time": "2025-04-08T14:53:15.452506",
     "exception": false,
     "start_time": "2025-04-08T14:53:14.441029",
     "status": "completed"
    },
    "tags": []
   },
   "outputs": [
    {
     "name": "stdout",
     "output_type": "stream",
     "text": [
      "/kaggle/input/digit-recognizer/sample_submission.csv\n",
      "/kaggle/input/digit-recognizer/train.csv\n",
      "/kaggle/input/digit-recognizer/test.csv\n"
     ]
    }
   ],
   "source": [
    "# This Python 3 environment comes with many helpful analytics libraries installed\n",
    "# It is defined by the kaggle/python Docker image: https://github.com/kaggle/docker-python\n",
    "# For example, here's several helpful packages to load\n",
    "\n",
    "import numpy as np # linear algebra\n",
    "import pandas as pd # data processing, CSV file I/O (e.g. pd.read_csv)\n",
    "\n",
    "# Input data files are available in the read-only \"../input/\" directory\n",
    "# For example, running this (by clicking run or pressing Shift+Enter) will list all files under the input directory\n",
    "\n",
    "import os\n",
    "for dirname, _, filenames in os.walk('/kaggle/input'):\n",
    "    for filename in filenames:\n",
    "        print(os.path.join(dirname, filename))\n",
    "\n",
    "# You can write up to 20GB to the current directory (/kaggle/working/) that gets preserved as output when you create a version using \"Save & Run All\" \n",
    "# You can also write temporary files to /kaggle/temp/, but they won't be saved outside of the current session"
   ]
  },
  {
   "cell_type": "code",
   "execution_count": 2,
   "id": "e6712a57",
   "metadata": {
    "execution": {
     "iopub.execute_input": "2025-04-08T14:53:15.463815Z",
     "iopub.status.busy": "2025-04-08T14:53:15.463217Z",
     "iopub.status.idle": "2025-04-08T14:53:20.670027Z",
     "shell.execute_reply": "2025-04-08T14:53:20.669023Z"
    },
    "papermill": {
     "duration": 5.21445,
     "end_time": "2025-04-08T14:53:20.672053",
     "exception": false,
     "start_time": "2025-04-08T14:53:15.457603",
     "status": "completed"
    },
    "tags": []
   },
   "outputs": [],
   "source": [
    "df = pd.read_csv('/kaggle/input/digit-recognizer/train.csv')\n",
    "df1 = pd.read_csv('/kaggle/input/digit-recognizer/test.csv')"
   ]
  },
  {
   "cell_type": "code",
   "execution_count": 3,
   "id": "7e520487",
   "metadata": {
    "execution": {
     "iopub.execute_input": "2025-04-08T14:53:20.682613Z",
     "iopub.status.busy": "2025-04-08T14:53:20.682204Z",
     "iopub.status.idle": "2025-04-08T14:53:22.902321Z",
     "shell.execute_reply": "2025-04-08T14:53:22.900924Z"
    },
    "papermill": {
     "duration": 2.227797,
     "end_time": "2025-04-08T14:53:22.904568",
     "exception": false,
     "start_time": "2025-04-08T14:53:20.676771",
     "status": "completed"
    },
    "tags": []
   },
   "outputs": [
    {
     "name": "stdout",
     "output_type": "stream",
     "text": [
      "(42000, 785)\n",
      "(28000, 784)\n"
     ]
    }
   ],
   "source": [
    "print(df.shape)\n",
    "df.describe()\n",
    "print(df1.shape)"
   ]
  },
  {
   "cell_type": "markdown",
   "id": "e367bc59",
   "metadata": {
    "papermill": {
     "duration": 0.005979,
     "end_time": "2025-04-08T14:53:22.919244",
     "exception": false,
     "start_time": "2025-04-08T14:53:22.913265",
     "status": "completed"
    },
    "tags": []
   },
   "source": [
    "Data preparation "
   ]
  },
  {
   "cell_type": "code",
   "execution_count": 4,
   "id": "3c80d6b4",
   "metadata": {
    "execution": {
     "iopub.execute_input": "2025-04-08T14:53:22.930071Z",
     "iopub.status.busy": "2025-04-08T14:53:22.929572Z",
     "iopub.status.idle": "2025-04-08T14:53:23.020826Z",
     "shell.execute_reply": "2025-04-08T14:53:23.019791Z"
    },
    "papermill": {
     "duration": 0.098989,
     "end_time": "2025-04-08T14:53:23.022923",
     "exception": false,
     "start_time": "2025-04-08T14:53:22.923934",
     "status": "completed"
    },
    "tags": []
   },
   "outputs": [],
   "source": [
    "x_train = df.drop(columns= 'label')\n",
    "y_train = df['label']\n",
    "x_finalt = df1"
   ]
  },
  {
   "cell_type": "code",
   "execution_count": 5,
   "id": "d2622c20",
   "metadata": {
    "execution": {
     "iopub.execute_input": "2025-04-08T14:53:23.034457Z",
     "iopub.status.busy": "2025-04-08T14:53:23.034106Z",
     "iopub.status.idle": "2025-04-08T14:53:23.061361Z",
     "shell.execute_reply": "2025-04-08T14:53:23.060246Z"
    },
    "papermill": {
     "duration": 0.035216,
     "end_time": "2025-04-08T14:53:23.063149",
     "exception": false,
     "start_time": "2025-04-08T14:53:23.027933",
     "status": "completed"
    },
    "tags": []
   },
   "outputs": [
    {
     "name": "stdout",
     "output_type": "stream",
     "text": [
      "0    1\n",
      "1    0\n",
      "2    1\n",
      "3    4\n",
      "4    0\n",
      "Name: label, dtype: int64\n",
      "   pixel0  pixel1  pixel2  pixel3  pixel4  pixel5  pixel6  pixel7  pixel8  \\\n",
      "0       0       0       0       0       0       0       0       0       0   \n",
      "1       0       0       0       0       0       0       0       0       0   \n",
      "2       0       0       0       0       0       0       0       0       0   \n",
      "3       0       0       0       0       0       0       0       0       0   \n",
      "4       0       0       0       0       0       0       0       0       0   \n",
      "\n",
      "   pixel9  ...  pixel774  pixel775  pixel776  pixel777  pixel778  pixel779  \\\n",
      "0       0  ...         0         0         0         0         0         0   \n",
      "1       0  ...         0         0         0         0         0         0   \n",
      "2       0  ...         0         0         0         0         0         0   \n",
      "3       0  ...         0         0         0         0         0         0   \n",
      "4       0  ...         0         0         0         0         0         0   \n",
      "\n",
      "   pixel780  pixel781  pixel782  pixel783  \n",
      "0         0         0         0         0  \n",
      "1         0         0         0         0  \n",
      "2         0         0         0         0  \n",
      "3         0         0         0         0  \n",
      "4         0         0         0         0  \n",
      "\n",
      "[5 rows x 784 columns]\n"
     ]
    },
    {
     "data": {
      "text/plain": [
       "label\n",
       "1    4684\n",
       "7    4401\n",
       "3    4351\n",
       "9    4188\n",
       "2    4177\n",
       "6    4137\n",
       "0    4132\n",
       "4    4072\n",
       "8    4063\n",
       "5    3795\n",
       "Name: count, dtype: int64"
      ]
     },
     "execution_count": 5,
     "metadata": {},
     "output_type": "execute_result"
    }
   ],
   "source": [
    "print(y_train.head())\n",
    "print(x_train.head())\n",
    "y_train.value_counts()"
   ]
  },
  {
   "cell_type": "code",
   "execution_count": 6,
   "id": "e08f513d",
   "metadata": {
    "execution": {
     "iopub.execute_input": "2025-04-08T14:53:23.074284Z",
     "iopub.status.busy": "2025-04-08T14:53:23.073923Z",
     "iopub.status.idle": "2025-04-08T14:53:23.088581Z",
     "shell.execute_reply": "2025-04-08T14:53:23.087509Z"
    },
    "papermill": {
     "duration": 0.022302,
     "end_time": "2025-04-08T14:53:23.090368",
     "exception": false,
     "start_time": "2025-04-08T14:53:23.068066",
     "status": "completed"
    },
    "tags": []
   },
   "outputs": [
    {
     "data": {
      "text/plain": [
       "0"
      ]
     },
     "execution_count": 6,
     "metadata": {},
     "output_type": "execute_result"
    }
   ],
   "source": [
    "x_train.isnull().any().sum()\n",
    "y_train.isnull().any().sum()"
   ]
  },
  {
   "cell_type": "markdown",
   "id": "16f0e5a5",
   "metadata": {
    "papermill": {
     "duration": 0.004578,
     "end_time": "2025-04-08T14:53:23.100047",
     "exception": false,
     "start_time": "2025-04-08T14:53:23.095469",
     "status": "completed"
    },
    "tags": []
   },
   "source": [
    "no null values or no missing pixel values"
   ]
  },
  {
   "cell_type": "code",
   "execution_count": 7,
   "id": "5cd13dbd",
   "metadata": {
    "execution": {
     "iopub.execute_input": "2025-04-08T14:53:23.111612Z",
     "iopub.status.busy": "2025-04-08T14:53:23.111236Z",
     "iopub.status.idle": "2025-04-08T14:53:25.191797Z",
     "shell.execute_reply": "2025-04-08T14:53:25.190759Z"
    },
    "papermill": {
     "duration": 2.088409,
     "end_time": "2025-04-08T14:53:25.193834",
     "exception": false,
     "start_time": "2025-04-08T14:53:23.105425",
     "status": "completed"
    },
    "tags": []
   },
   "outputs": [],
   "source": [
    "#minmax scaling\n",
    "from sklearn.preprocessing import MinMaxScaler\n",
    "scaler = MinMaxScaler()\n",
    "x_trainN = scaler.fit_transform(x_train)\n",
    "x_testN = scaler.fit_transform(x_finalt)"
   ]
  },
  {
   "cell_type": "code",
   "execution_count": 8,
   "id": "ebbf86d3",
   "metadata": {
    "execution": {
     "iopub.execute_input": "2025-04-08T14:53:25.206065Z",
     "iopub.status.busy": "2025-04-08T14:53:25.205508Z",
     "iopub.status.idle": "2025-04-08T14:53:25.211451Z",
     "shell.execute_reply": "2025-04-08T14:53:25.210227Z"
    },
    "papermill": {
     "duration": 0.014155,
     "end_time": "2025-04-08T14:53:25.213255",
     "exception": false,
     "start_time": "2025-04-08T14:53:25.199100",
     "status": "completed"
    },
    "tags": []
   },
   "outputs": [
    {
     "name": "stdout",
     "output_type": "stream",
     "text": [
      "(42000, 28, 28, 1)\n"
     ]
    }
   ],
   "source": [
    "x_trainN = x_trainN.reshape(-1,28,28,1)\n",
    "x_testN = x_testN.reshape(-1,28,28,1)\n",
    "print(x_trainN.shape)"
   ]
  },
  {
   "cell_type": "code",
   "execution_count": 9,
   "id": "e7201eba",
   "metadata": {
    "execution": {
     "iopub.execute_input": "2025-04-08T14:53:25.225144Z",
     "iopub.status.busy": "2025-04-08T14:53:25.224777Z",
     "iopub.status.idle": "2025-04-08T14:53:25.250823Z",
     "shell.execute_reply": "2025-04-08T14:53:25.249568Z"
    },
    "papermill": {
     "duration": 0.034095,
     "end_time": "2025-04-08T14:53:25.252874",
     "exception": false,
     "start_time": "2025-04-08T14:53:25.218779",
     "status": "completed"
    },
    "tags": []
   },
   "outputs": [
    {
     "data": {
      "text/html": [
       "<div>\n",
       "<style scoped>\n",
       "    .dataframe tbody tr th:only-of-type {\n",
       "        vertical-align: middle;\n",
       "    }\n",
       "\n",
       "    .dataframe tbody tr th {\n",
       "        vertical-align: top;\n",
       "    }\n",
       "\n",
       "    .dataframe thead th {\n",
       "        text-align: right;\n",
       "    }\n",
       "</style>\n",
       "<table border=\"1\" class=\"dataframe\">\n",
       "  <thead>\n",
       "    <tr style=\"text-align: right;\">\n",
       "      <th></th>\n",
       "      <th>0</th>\n",
       "      <th>1</th>\n",
       "      <th>2</th>\n",
       "      <th>3</th>\n",
       "      <th>4</th>\n",
       "      <th>5</th>\n",
       "      <th>6</th>\n",
       "      <th>7</th>\n",
       "      <th>8</th>\n",
       "      <th>9</th>\n",
       "    </tr>\n",
       "  </thead>\n",
       "  <tbody>\n",
       "    <tr>\n",
       "      <th>0</th>\n",
       "      <td>False</td>\n",
       "      <td>True</td>\n",
       "      <td>False</td>\n",
       "      <td>False</td>\n",
       "      <td>False</td>\n",
       "      <td>False</td>\n",
       "      <td>False</td>\n",
       "      <td>False</td>\n",
       "      <td>False</td>\n",
       "      <td>False</td>\n",
       "    </tr>\n",
       "    <tr>\n",
       "      <th>1</th>\n",
       "      <td>True</td>\n",
       "      <td>False</td>\n",
       "      <td>False</td>\n",
       "      <td>False</td>\n",
       "      <td>False</td>\n",
       "      <td>False</td>\n",
       "      <td>False</td>\n",
       "      <td>False</td>\n",
       "      <td>False</td>\n",
       "      <td>False</td>\n",
       "    </tr>\n",
       "    <tr>\n",
       "      <th>2</th>\n",
       "      <td>False</td>\n",
       "      <td>True</td>\n",
       "      <td>False</td>\n",
       "      <td>False</td>\n",
       "      <td>False</td>\n",
       "      <td>False</td>\n",
       "      <td>False</td>\n",
       "      <td>False</td>\n",
       "      <td>False</td>\n",
       "      <td>False</td>\n",
       "    </tr>\n",
       "    <tr>\n",
       "      <th>3</th>\n",
       "      <td>False</td>\n",
       "      <td>False</td>\n",
       "      <td>False</td>\n",
       "      <td>False</td>\n",
       "      <td>True</td>\n",
       "      <td>False</td>\n",
       "      <td>False</td>\n",
       "      <td>False</td>\n",
       "      <td>False</td>\n",
       "      <td>False</td>\n",
       "    </tr>\n",
       "    <tr>\n",
       "      <th>4</th>\n",
       "      <td>True</td>\n",
       "      <td>False</td>\n",
       "      <td>False</td>\n",
       "      <td>False</td>\n",
       "      <td>False</td>\n",
       "      <td>False</td>\n",
       "      <td>False</td>\n",
       "      <td>False</td>\n",
       "      <td>False</td>\n",
       "      <td>False</td>\n",
       "    </tr>\n",
       "  </tbody>\n",
       "</table>\n",
       "</div>"
      ],
      "text/plain": [
       "       0      1      2      3      4      5      6      7      8      9\n",
       "0  False   True  False  False  False  False  False  False  False  False\n",
       "1   True  False  False  False  False  False  False  False  False  False\n",
       "2  False   True  False  False  False  False  False  False  False  False\n",
       "3  False  False  False  False   True  False  False  False  False  False\n",
       "4   True  False  False  False  False  False  False  False  False  False"
      ]
     },
     "execution_count": 9,
     "metadata": {},
     "output_type": "execute_result"
    }
   ],
   "source": [
    "#hotencoding the y\n",
    "y_trainE = pd.get_dummies(y_train)\n",
    "y_trainE.head()"
   ]
  },
  {
   "cell_type": "code",
   "execution_count": 10,
   "id": "35c101a2",
   "metadata": {
    "execution": {
     "iopub.execute_input": "2025-04-08T14:53:25.264930Z",
     "iopub.status.busy": "2025-04-08T14:53:25.264500Z",
     "iopub.status.idle": "2025-04-08T14:53:25.854801Z",
     "shell.execute_reply": "2025-04-08T14:53:25.853412Z"
    },
    "papermill": {
     "duration": 0.598482,
     "end_time": "2025-04-08T14:53:25.856770",
     "exception": false,
     "start_time": "2025-04-08T14:53:25.258288",
     "status": "completed"
    },
    "tags": []
   },
   "outputs": [],
   "source": [
    "from sklearn.model_selection import train_test_split\n",
    "x_train, x_test, y_train, y_test = train_test_split(x_trainN,y_trainE,test_size = 0.2, random_state=42)"
   ]
  },
  {
   "cell_type": "code",
   "execution_count": 11,
   "id": "59b9e847",
   "metadata": {
    "execution": {
     "iopub.execute_input": "2025-04-08T14:53:25.869508Z",
     "iopub.status.busy": "2025-04-08T14:53:25.869157Z",
     "iopub.status.idle": "2025-04-08T14:53:26.158317Z",
     "shell.execute_reply": "2025-04-08T14:53:26.157167Z"
    },
    "papermill": {
     "duration": 0.297686,
     "end_time": "2025-04-08T14:53:26.160233",
     "exception": false,
     "start_time": "2025-04-08T14:53:25.862547",
     "status": "completed"
    },
    "tags": []
   },
   "outputs": [
    {
     "data": {
      "image/png": "[encoded data removed]",
      "text/plain": [
       "<Figure size 640x480 with 1 Axes>"
      ]
     },
     "metadata": {},
     "output_type": "display_data"
    }
   ],
   "source": [
    "import matplotlib.pyplot as plt\n",
    "# Some examples\n",
    "g = plt.imshow(x_train[0][:,:,0])\n"
   ]
  },
  {
   "cell_type": "code",
   "execution_count": 12,
   "id": "fae72c6f",
   "metadata": {
    "execution": {
     "iopub.execute_input": "2025-04-08T14:53:26.172677Z",
     "iopub.status.busy": "2025-04-08T14:53:26.172275Z",
     "iopub.status.idle": "2025-04-08T14:53:42.411900Z",
     "shell.execute_reply": "2025-04-08T14:53:42.410596Z"
    },
    "papermill": {
     "duration": 16.247938,
     "end_time": "2025-04-08T14:53:42.413729",
     "exception": false,
     "start_time": "2025-04-08T14:53:26.165791",
     "status": "completed"
    },
    "tags": []
   },
   "outputs": [
    {
     "name": "stderr",
     "output_type": "stream",
     "text": [
      "/usr/local/lib/python3.10/dist-packages/keras/src/layers/convolutional/base_conv.py:107: UserWarning: Do not pass an `input_shape`/`input_dim` argument to a layer. When using Sequential models, prefer using an `Input(shape)` object as the first layer in the model instead.\n",
      "  super().__init__(activity_regularizer=activity_regularizer, **kwargs)\n"
     ]
    }
   ],
   "source": [
    "from keras.models import Sequential\n",
    "from tensorflow.keras.layers import Conv2D, MaxPooling2D, Flatten, Dense, Dropout\n",
    "model = Sequential()\n",
    "model.add(Conv2D(32, kernel_size=(3, 3), activation='relu', input_shape=(28, 28, 1)))\n",
    "model.add(MaxPooling2D(pool_size=(2, 2)))\n",
    "model.add(Conv2D(32, kernel_size=(3,3),activation='relu'))\n",
    "model.add(MaxPooling2D(pool_size=(2,2)))\n",
    "model.add(Dropout(0.2))\n",
    "model.add(Flatten())\n",
    "model.add(Dense(128, activation='relu'))\n",
    "model.add(Dropout(0.2))\n",
    "model.add(Dense(10,activation='softmax'))"
   ]
  },
  {
   "cell_type": "code",
   "execution_count": 13,
   "id": "b61a6a77",
   "metadata": {
    "execution": {
     "iopub.execute_input": "2025-04-08T14:53:42.427018Z",
     "iopub.status.busy": "2025-04-08T14:53:42.426337Z",
     "iopub.status.idle": "2025-04-08T14:53:42.443566Z",
     "shell.execute_reply": "2025-04-08T14:53:42.442172Z"
    },
    "papermill": {
     "duration": 0.026129,
     "end_time": "2025-04-08T14:53:42.445934",
     "exception": false,
     "start_time": "2025-04-08T14:53:42.419805",
     "status": "completed"
    },
    "tags": []
   },
   "outputs": [],
   "source": [
    "from keras.optimizers import Adam\n",
    "model.compile(optimizer =Adam(learning_rate=0.001),loss = \"categorical_crossentropy\", metrics=[\"accuracy\"])"
   ]
  },
  {
   "cell_type": "code",
   "execution_count": 14,
   "id": "b5d7df5d",
   "metadata": {
    "execution": {
     "iopub.execute_input": "2025-04-08T14:53:42.459204Z",
     "iopub.status.busy": "2025-04-08T14:53:42.458806Z",
     "iopub.status.idle": "2025-04-08T14:57:29.615738Z",
     "shell.execute_reply": "2025-04-08T14:57:29.613651Z"
    },
    "papermill": {
     "duration": 227.166356,
     "end_time": "2025-04-08T14:57:29.618104",
     "exception": false,
     "start_time": "2025-04-08T14:53:42.451748",
     "status": "completed"
    },
    "tags": []
   },
   "outputs": [
    {
     "name": "stdout",
     "output_type": "stream",
     "text": [
      "Epoch 1/20\n",
      "391/391 - 14s - 35ms/step - accuracy: 0.8908 - loss: 0.3534 - val_accuracy: 0.9717 - val_loss: 0.0932\n",
      "Epoch 2/20\n",
      "391/391 - 11s - 29ms/step - accuracy: 0.9697 - loss: 0.1006 - val_accuracy: 0.9806 - val_loss: 0.0618\n",
      "Epoch 3/20\n",
      "391/391 - 11s - 29ms/step - accuracy: 0.9769 - loss: 0.0743 - val_accuracy: 0.9837 - val_loss: 0.0529\n",
      "Epoch 4/20\n",
      "391/391 - 12s - 30ms/step - accuracy: 0.9820 - loss: 0.0582 - val_accuracy: 0.9865 - val_loss: 0.0431\n",
      "Epoch 5/20\n",
      "391/391 - 11s - 28ms/step - accuracy: 0.9836 - loss: 0.0501 - val_accuracy: 0.9888 - val_loss: 0.0386\n",
      "Epoch 6/20\n",
      "391/391 - 11s - 28ms/step - accuracy: 0.9868 - loss: 0.0416 - val_accuracy: 0.9870 - val_loss: 0.0415\n",
      "Epoch 7/20\n",
      "391/391 - 12s - 29ms/step - accuracy: 0.9871 - loss: 0.0392 - val_accuracy: 0.9889 - val_loss: 0.0330\n",
      "Epoch 8/20\n",
      "391/391 - 11s - 28ms/step - accuracy: 0.9893 - loss: 0.0332 - val_accuracy: 0.9868 - val_loss: 0.0430\n",
      "Epoch 9/20\n",
      "391/391 - 11s - 27ms/step - accuracy: 0.9895 - loss: 0.0317 - val_accuracy: 0.9902 - val_loss: 0.0342\n",
      "Epoch 10/20\n",
      "391/391 - 12s - 31ms/step - accuracy: 0.9911 - loss: 0.0269 - val_accuracy: 0.9907 - val_loss: 0.0315\n",
      "Epoch 11/20\n",
      "391/391 - 11s - 28ms/step - accuracy: 0.9914 - loss: 0.0267 - val_accuracy: 0.9906 - val_loss: 0.0316\n",
      "Epoch 12/20\n",
      "391/391 - 11s - 27ms/step - accuracy: 0.9920 - loss: 0.0231 - val_accuracy: 0.9895 - val_loss: 0.0327\n",
      "Epoch 13/20\n",
      "391/391 - 11s - 29ms/step - accuracy: 0.9929 - loss: 0.0218 - val_accuracy: 0.9918 - val_loss: 0.0309\n",
      "Epoch 14/20\n",
      "391/391 - 11s - 28ms/step - accuracy: 0.9931 - loss: 0.0209 - val_accuracy: 0.9901 - val_loss: 0.0291\n",
      "Epoch 15/20\n",
      "391/391 - 11s - 29ms/step - accuracy: 0.9935 - loss: 0.0183 - val_accuracy: 0.9917 - val_loss: 0.0294\n",
      "Epoch 16/20\n",
      "391/391 - 12s - 30ms/step - accuracy: 0.9943 - loss: 0.0170 - val_accuracy: 0.9914 - val_loss: 0.0298\n",
      "Epoch 17/20\n",
      "391/391 - 11s - 28ms/step - accuracy: 0.9940 - loss: 0.0178 - val_accuracy: 0.9911 - val_loss: 0.0303\n",
      "Epoch 18/20\n",
      "391/391 - 11s - 28ms/step - accuracy: 0.9947 - loss: 0.0169 - val_accuracy: 0.9906 - val_loss: 0.0345\n",
      "Epoch 19/20\n",
      "391/391 - 12s - 31ms/step - accuracy: 0.9951 - loss: 0.0142 - val_accuracy: 0.9896 - val_loss: 0.0363\n",
      "Epoch 20/20\n",
      "391/391 - 11s - 28ms/step - accuracy: 0.9956 - loss: 0.0129 - val_accuracy: 0.9911 - val_loss: 0.0397\n"
     ]
    }
   ],
   "source": [
    "epochs = 20\n",
    "batch_size = 86\n",
    "history=model.fit(x_train,y_train, batch_size=batch_size, epochs = epochs, \n",
    "                  validation_data = (x_test,y_test),verbose = 2)\n",
    "##overfitting?improve with augmentation.."
   ]
  },
  {
   "cell_type": "code",
   "execution_count": 15,
   "id": "1725e0c3",
   "metadata": {
    "execution": {
     "iopub.execute_input": "2025-04-08T14:57:29.637275Z",
     "iopub.status.busy": "2025-04-08T14:57:29.636863Z",
     "iopub.status.idle": "2025-04-08T14:57:30.099090Z",
     "shell.execute_reply": "2025-04-08T14:57:30.097937Z"
    },
    "papermill": {
     "duration": 0.475073,
     "end_time": "2025-04-08T14:57:30.101386",
     "exception": false,
     "start_time": "2025-04-08T14:57:29.626313",
     "status": "completed"
    },
    "tags": []
   },
   "outputs": [
    {
     "data": {
      "text/plain": [
       "Text(0, 0.5, 'Loss')"
      ]
     },
     "execution_count": 15,
     "metadata": {},
     "output_type": "execute_result"
    },
    {
     "data": {
      "image/png": "[encoded data removed]",
      "text/plain": [
       "<Figure size 640x480 with 2 Axes>"
      ]
     },
     "metadata": {},
     "output_type": "display_data"
    }
   ],
   "source": [
    "fig, ax = plt.subplots(2,1)\n",
    "ax[0].plot(history.history['loss'], color='b', label=\"Training loss\")\n",
    "ax[0].plot(history.history['val_loss'], color='r', label=\"validation loss\")\n",
    "legend = ax[0].legend(loc='best', shadow=True)\n",
    "ax[0].set_xlabel('Epochs')  \n",
    "ax[0].set_ylabel('Loss') \n",
    "\n",
    "ax[1].plot(history.history['accuracy'], color='b', label=\"Training accuracy\")\n",
    "ax[1].plot(history.history['val_accuracy'], color='r',label=\"Validation accuracy\")\n",
    "legend = ax[1].legend(loc='best', shadow=True)\n",
    "ax[1].set_xlabel('Epochs')  # X-axis label (epochs)\n",
    "ax[1].set_ylabel('Loss') "
   ]
  },
  {
   "cell_type": "code",
   "execution_count": 16,
   "id": "ada2b343",
   "metadata": {
    "execution": {
     "iopub.execute_input": "2025-04-08T14:57:30.120517Z",
     "iopub.status.busy": "2025-04-08T14:57:30.120147Z",
     "iopub.status.idle": "2025-04-08T14:57:32.841099Z",
     "shell.execute_reply": "2025-04-08T14:57:32.839939Z"
    },
    "papermill": {
     "duration": 2.733324,
     "end_time": "2025-04-08T14:57:32.843702",
     "exception": false,
     "start_time": "2025-04-08T14:57:30.110378",
     "status": "completed"
    },
    "tags": []
   },
   "outputs": [
    {
     "name": "stdout",
     "output_type": "stream",
     "text": [
      "\u001b[1m263/263\u001b[0m \u001b[32m━━━━━━━━━━━━━━━━━━━━\u001b[0m\u001b[37m\u001b[0m \u001b[1m1s\u001b[0m 5ms/step\n"
     ]
    },
    {
     "data": {
      "image/png": "[encoded data removed]",
      "text/plain": [
       "<Figure size 800x500 with 2 Axes>"
      ]
     },
     "metadata": {},
     "output_type": "display_data"
    }
   ],
   "source": [
    "from sklearn.metrics import confusion_matrix\n",
    "import seaborn as sns\n",
    "\n",
    "y_pred = model.predict(x_test)\n",
    "\n",
    "#convert all to true\n",
    "Y_pred = np.argmax(y_pred, axis=1)\n",
    "Y_true = np.argmax(y_test, axis=1)\n",
    "cm = confusion_matrix(Y_true,Y_pred)\n",
    "#cm = confusion_matrix(y_test,y_pred)\n",
    "plt.figure(figsize=(8,5))\n",
    "sns.heatmap(cm,annot=True,cmap='Blues',fmt= 'd')\n",
    "plt.show()"
   ]
  },
  {
   "cell_type": "code",
   "execution_count": 17,
   "id": "bf8c2f82",
   "metadata": {
    "execution": {
     "iopub.execute_input": "2025-04-08T14:57:32.869046Z",
     "iopub.status.busy": "2025-04-08T14:57:32.868290Z",
     "iopub.status.idle": "2025-04-08T14:57:37.792849Z",
     "shell.execute_reply": "2025-04-08T14:57:37.791692Z"
    },
    "papermill": {
     "duration": 4.93907,
     "end_time": "2025-04-08T14:57:37.794870",
     "exception": false,
     "start_time": "2025-04-08T14:57:32.855800",
     "status": "completed"
    },
    "tags": []
   },
   "outputs": [
    {
     "name": "stdout",
     "output_type": "stream",
     "text": [
      "\u001b[1m875/875\u001b[0m \u001b[32m━━━━━━━━━━━━━━━━━━━━\u001b[0m\u001b[37m\u001b[0m \u001b[1m4s\u001b[0m 5ms/step\n"
     ]
    }
   ],
   "source": [
    "\n",
    "result = model.predict(x_testN)\n",
    "result = np.argmax(result, axis= 1)\n",
    "\n",
    "submissions=pd.DataFrame({\"ImageId\": list(range(1,len(result)+1)),\n",
    "                         \"Label\": result})"
   ]
  },
  {
   "cell_type": "code",
   "execution_count": 18,
   "id": "b7b563e0",
   "metadata": {
    "execution": {
     "iopub.execute_input": "2025-04-08T14:57:37.829502Z",
     "iopub.status.busy": "2025-04-08T14:57:37.829097Z",
     "iopub.status.idle": "2025-04-08T14:57:37.860500Z",
     "shell.execute_reply": "2025-04-08T14:57:37.859166Z"
    },
    "papermill": {
     "duration": 0.051622,
     "end_time": "2025-04-08T14:57:37.862693",
     "exception": false,
     "start_time": "2025-04-08T14:57:37.811071",
     "status": "completed"
    },
    "tags": []
   },
   "outputs": [],
   "source": [
    "submissions.to_csv(\"final.csv\", index=False, header=True)"
   ]
  }
 ],
 "metadata": {
  "kaggle": {
   "accelerator": "none",
   "dataSources": [
    {
     "databundleVersionId": 861823,
     "sourceId": 3004,
     "sourceType": "competition"
    }
   ],
   "dockerImageVersionId": 30918,
   "isGpuEnabled": false,
   "isInternetEnabled": false,
   "language": "python",
   "sourceType": "notebook"
  },
  "kernelspec": {
   "display_name": "Python 3",
   "language": "python",
   "name": "python3"
  },
  "language_info": {
   "codemirror_mode": {
    "name": "ipython",
    "version": 3
   },
   "file_extension": ".py",
   "mimetype": "text/x-python",
   "name": "python",
   "nbconvert_exporter": "python",
   "pygments_lexer": "ipython3",
   "version": "3.10.12"
  },
  "papermill": {
   "default_parameters": {},
   "duration": 268.921903,
   "end_time": "2025-04-08T14:57:40.335489",
   "environment_variables": {},
   "exception": null,
   "input_path": "__notebook__.ipynb",
   "output_path": "__notebook__.ipynb",
   "parameters": {},
   "start_time": "2025-04-08T14:53:11.413586",
   "version": "2.6.0"
  }
 },
 "nbformat": 4,
 "nbformat_minor": 5
}
