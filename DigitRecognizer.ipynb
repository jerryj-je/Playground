{
 "cells": [
  {
   "cell_type": "code",
   "execution_count": 1,
   "id": "bea47f23",
   "metadata": {
    "_cell_guid": "b1076dfc-b9ad-4769-8c92-a6c4dae69d19",
    "_uuid": "8f2839f25d086af736a60e9eeb907d3b93b6e0e5",
    "execution": {
     "iopub.execute_input": "2025-04-08T14:57:45.347911Z",
     "iopub.status.busy": "2025-04-08T14:57:45.347574Z",
     "iopub.status.idle": "2025-04-08T14:57:46.391194Z",
     "shell.execute_reply": "2025-04-08T14:57:46.389714Z"
    },
    "papermill": {
     "duration": 1.052484,
     "end_time": "2025-04-08T14:57:46.393284",
     "exception": false,
     "start_time": "2025-04-08T14:57:45.340800",
     "status": "completed"
    },
    "tags": []
   },
   "outputs": [
    {
     "name": "stdout",
     "output_type": "stream",
     "text": [
      "/kaggle/input/digit-recognizer/sample_submission.csv\n",
      "/kaggle/input/digit-recognizer/train.csv\n",
      "/kaggle/input/digit-recognizer/test.csv\n"
     ]
    }
   ],
   "source": [
    "# This Python 3 environment comes with many helpful analytics libraries installed\n",
    "# It is defined by the kaggle/python Docker image: https://github.com/kaggle/docker-python\n",
    "# For example, here's several helpful packages to load\n",
    "\n",
    "import numpy as np # linear algebra\n",
    "import pandas as pd # data processing, CSV file I/O (e.g. pd.read_csv)\n",
    "\n",
    "# Input data files are available in the read-only \"../input/\" directory\n",
    "# For example, running this (by clicking run or pressing Shift+Enter) will list all files under the input directory\n",
    "\n",
    "import os\n",
    "for dirname, _, filenames in os.walk('/kaggle/input'):\n",
    "    for filename in filenames:\n",
    "        print(os.path.join(dirname, filename))\n",
    "\n",
    "# You can write up to 20GB to the current directory (/kaggle/working/) that gets preserved as output when you create a version using \"Save & Run All\" \n",
    "# You can also write temporary files to /kaggle/temp/, but they won't be saved outside of the current session"
   ]
  },
  {
   "cell_type": "code",
   "execution_count": 2,
   "id": "756027f3",
   "metadata": {
    "execution": {
     "iopub.execute_input": "2025-04-08T14:57:46.405680Z",
     "iopub.status.busy": "2025-04-08T14:57:46.405111Z",
     "iopub.status.idle": "2025-04-08T14:57:52.254323Z",
     "shell.execute_reply": "2025-04-08T14:57:52.252799Z"
    },
    "papermill": {
     "duration": 5.857794,
     "end_time": "2025-04-08T14:57:52.256600",
     "exception": false,
     "start_time": "2025-04-08T14:57:46.398806",
     "status": "completed"
    },
    "tags": []
   },
   "outputs": [],
   "source": [
    "df = pd.read_csv('/kaggle/input/digit-recognizer/train.csv')\n",
    "df1 = pd.read_csv('/kaggle/input/digit-recognizer/test.csv')"
   ]
  },
  {
   "cell_type": "code",
   "execution_count": 3,
   "id": "90d2a22b",
   "metadata": {
    "execution": {
     "iopub.execute_input": "2025-04-08T14:57:52.268329Z",
     "iopub.status.busy": "2025-04-08T14:57:52.267924Z",
     "iopub.status.idle": "2025-04-08T14:57:54.357977Z",
     "shell.execute_reply": "2025-04-08T14:57:54.356453Z"
    },
    "papermill": {
     "duration": 2.098471,
     "end_time": "2025-04-08T14:57:54.360273",
     "exception": false,
     "start_time": "2025-04-08T14:57:52.261802",
     "status": "completed"
    },
    "tags": []
   },
   "outputs": [
    {
     "name": "stdout",
     "output_type": "stream",
     "text": [
      "(42000, 785)\n",
      "(28000, 784)\n"
     ]
    }
   ],
   "source": [
    "print(df.shape)\n",
    "df.describe()\n",
    "print(df1.shape)"
   ]
  },
  {
   "cell_type": "markdown",
   "id": "d2b76cae",
   "metadata": {
    "papermill": {
     "duration": 0.004243,
     "end_time": "2025-04-08T14:57:54.369440",
     "exception": false,
     "start_time": "2025-04-08T14:57:54.365197",
     "status": "completed"
    },
    "tags": []
   },
   "source": [
    "Data preparation "
   ]
  },
  {
   "cell_type": "code",
   "execution_count": 4,
   "id": "5adbac26",
   "metadata": {
    "execution": {
     "iopub.execute_input": "2025-04-08T14:57:54.379957Z",
     "iopub.status.busy": "2025-04-08T14:57:54.379607Z",
     "iopub.status.idle": "2025-04-08T14:57:54.488110Z",
     "shell.execute_reply": "2025-04-08T14:57:54.486981Z"
    },
    "papermill": {
     "duration": 0.11652,
     "end_time": "2025-04-08T14:57:54.490491",
     "exception": false,
     "start_time": "2025-04-08T14:57:54.373971",
     "status": "completed"
    },
    "tags": []
   },
   "outputs": [],
   "source": [
    "x_train = df.drop(columns= 'label')\n",
    "y_train = df['label']\n",
    "x_finalt = df1"
   ]
  },
  {
   "cell_type": "code",
   "execution_count": 5,
   "id": "7268e8cc",
   "metadata": {
    "execution": {
     "iopub.execute_input": "2025-04-08T14:57:54.502287Z",
     "iopub.status.busy": "2025-04-08T14:57:54.501937Z",
     "iopub.status.idle": "2025-04-08T14:57:54.527422Z",
     "shell.execute_reply": "2025-04-08T14:57:54.526140Z"
    },
    "papermill": {
     "duration": 0.033389,
     "end_time": "2025-04-08T14:57:54.529298",
     "exception": false,
     "start_time": "2025-04-08T14:57:54.495909",
     "status": "completed"
    },
    "tags": []
   },
   "outputs": [
    {
     "name": "stdout",
     "output_type": "stream",
     "text": [
      "0    1\n",
      "1    0\n",
      "2    1\n",
      "3    4\n",
      "4    0\n",
      "Name: label, dtype: int64\n",
      "   pixel0  pixel1  pixel2  pixel3  pixel4  pixel5  pixel6  pixel7  pixel8  \\\n",
      "0       0       0       0       0       0       0       0       0       0   \n",
      "1       0       0       0       0       0       0       0       0       0   \n",
      "2       0       0       0       0       0       0       0       0       0   \n",
      "3       0       0       0       0       0       0       0       0       0   \n",
      "4       0       0       0       0       0       0       0       0       0   \n",
      "\n",
      "   pixel9  ...  pixel774  pixel775  pixel776  pixel777  pixel778  pixel779  \\\n",
      "0       0  ...         0         0         0         0         0         0   \n",
      "1       0  ...         0         0         0         0         0         0   \n",
      "2       0  ...         0         0         0         0         0         0   \n",
      "3       0  ...         0         0         0         0         0         0   \n",
      "4       0  ...         0         0         0         0         0         0   \n",
      "\n",
      "   pixel780  pixel781  pixel782  pixel783  \n",
      "0         0         0         0         0  \n",
      "1         0         0         0         0  \n",
      "2         0         0         0         0  \n",
      "3         0         0         0         0  \n",
      "4         0         0         0         0  \n",
      "\n",
      "[5 rows x 784 columns]\n"
     ]
    },
    {
     "data": {
      "text/plain": [
       "label\n",
       "1    4684\n",
       "7    4401\n",
       "3    4351\n",
       "9    4188\n",
       "2    4177\n",
       "6    4137\n",
       "0    4132\n",
       "4    4072\n",
       "8    4063\n",
       "5    3795\n",
       "Name: count, dtype: int64"
      ]
     },
     "execution_count": 5,
     "metadata": {},
     "output_type": "execute_result"
    }
   ],
   "source": [
    "print(y_train.head())\n",
    "print(x_train.head())\n",
    "y_train.value_counts()"
   ]
  },
  {
   "cell_type": "code",
   "execution_count": 6,
   "id": "5722b525",
   "metadata": {
    "execution": {
     "iopub.execute_input": "2025-04-08T14:57:54.541098Z",
     "iopub.status.busy": "2025-04-08T14:57:54.540674Z",
     "iopub.status.idle": "2025-04-08T14:57:54.563107Z",
     "shell.execute_reply": "2025-04-08T14:57:54.561734Z"
    },
    "papermill": {
     "duration": 0.030881,
     "end_time": "2025-04-08T14:57:54.565296",
     "exception": false,
     "start_time": "2025-04-08T14:57:54.534415",
     "status": "completed"
    },
    "tags": []
   },
   "outputs": [
    {
     "data": {
      "text/plain": [
       "0"
      ]
     },
     "execution_count": 6,
     "metadata": {},
     "output_type": "execute_result"
    }
   ],
   "source": [
    "x_train.isnull().any().sum()\n",
    "y_train.isnull().any().sum()"
   ]
  },
  {
   "cell_type": "markdown",
   "id": "108a3e16",
   "metadata": {
    "papermill": {
     "duration": 0.004805,
     "end_time": "2025-04-08T14:57:54.575640",
     "exception": false,
     "start_time": "2025-04-08T14:57:54.570835",
     "status": "completed"
    },
    "tags": []
   },
   "source": [
    "no null values or no missing pixel values"
   ]
  },
  {
   "cell_type": "code",
   "execution_count": 7,
   "id": "57776c78",
   "metadata": {
    "execution": {
     "iopub.execute_input": "2025-04-08T14:57:54.587537Z",
     "iopub.status.busy": "2025-04-08T14:57:54.587068Z",
     "iopub.status.idle": "2025-04-08T14:57:57.029284Z",
     "shell.execute_reply": "2025-04-08T14:57:57.027954Z"
    },
    "papermill": {
     "duration": 2.450741,
     "end_time": "2025-04-08T14:57:57.031579",
     "exception": false,
     "start_time": "2025-04-08T14:57:54.580838",
     "status": "completed"
    },
    "tags": []
   },
   "outputs": [],
   "source": [
    "#minmax scaling\n",
    "from sklearn.preprocessing import MinMaxScaler\n",
    "scaler = MinMaxScaler()\n",
    "x_trainN = scaler.fit_transform(x_train)\n",
    "x_testN = scaler.fit_transform(x_finalt)"
   ]
  },
  {
   "cell_type": "code",
   "execution_count": 8,
   "id": "4bda0e1f",
   "metadata": {
    "execution": {
     "iopub.execute_input": "2025-04-08T14:57:57.044105Z",
     "iopub.status.busy": "2025-04-08T14:57:57.043413Z",
     "iopub.status.idle": "2025-04-08T14:57:57.050382Z",
     "shell.execute_reply": "2025-04-08T14:57:57.049031Z"
    },
    "papermill": {
     "duration": 0.015336,
     "end_time": "2025-04-08T14:57:57.052192",
     "exception": false,
     "start_time": "2025-04-08T14:57:57.036856",
     "status": "completed"
    },
    "tags": []
   },
   "outputs": [
    {
     "name": "stdout",
     "output_type": "stream",
     "text": [
      "(42000, 28, 28, 1)\n"
     ]
    }
   ],
   "source": [
    "x_trainN = x_trainN.reshape(-1,28,28,1)\n",
    "x_testN = x_testN.reshape(-1,28,28,1)\n",
    "print(x_trainN.shape)"
   ]
  },
  {
   "cell_type": "code",
   "execution_count": 9,
   "id": "be673d06",
   "metadata": {
    "execution": {
     "iopub.execute_input": "2025-04-08T14:57:57.064728Z",
     "iopub.status.busy": "2025-04-08T14:57:57.064294Z",
     "iopub.status.idle": "2025-04-08T14:57:57.091032Z",
     "shell.execute_reply": "2025-04-08T14:57:57.089809Z"
    },
    "papermill": {
     "duration": 0.035246,
     "end_time": "2025-04-08T14:57:57.093114",
     "exception": false,
     "start_time": "2025-04-08T14:57:57.057868",
     "status": "completed"
    },
    "tags": []
   },
   "outputs": [
    {
     "data": {
      "text/html": [
       "<div>\n",
       "<style scoped>\n",
       "    .dataframe tbody tr th:only-of-type {\n",
       "        vertical-align: middle;\n",
       "    }\n",
       "\n",
       "    .dataframe tbody tr th {\n",
       "        vertical-align: top;\n",
       "    }\n",
       "\n",
       "    .dataframe thead th {\n",
       "        text-align: right;\n",
       "    }\n",
       "</style>\n",
       "<table border=\"1\" class=\"dataframe\">\n",
       "  <thead>\n",
       "    <tr style=\"text-align: right;\">\n",
       "      <th></th>\n",
       "      <th>0</th>\n",
       "      <th>1</th>\n",
       "      <th>2</th>\n",
       "      <th>3</th>\n",
       "      <th>4</th>\n",
       "      <th>5</th>\n",
       "      <th>6</th>\n",
       "      <th>7</th>\n",
       "      <th>8</th>\n",
       "      <th>9</th>\n",
       "    </tr>\n",
       "  </thead>\n",
       "  <tbody>\n",
       "    <tr>\n",
       "      <th>0</th>\n",
       "      <td>False</td>\n",
       "      <td>True</td>\n",
       "      <td>False</td>\n",
       "      <td>False</td>\n",
       "      <td>False</td>\n",
       "      <td>False</td>\n",
       "      <td>False</td>\n",
       "      <td>False</td>\n",
       "      <td>False</td>\n",
       "      <td>False</td>\n",
       "    </tr>\n",
       "    <tr>\n",
       "      <th>1</th>\n",
       "      <td>True</td>\n",
       "      <td>False</td>\n",
       "      <td>False</td>\n",
       "      <td>False</td>\n",
       "      <td>False</td>\n",
       "      <td>False</td>\n",
       "      <td>False</td>\n",
       "      <td>False</td>\n",
       "      <td>False</td>\n",
       "      <td>False</td>\n",
       "    </tr>\n",
       "    <tr>\n",
       "      <th>2</th>\n",
       "      <td>False</td>\n",
       "      <td>True</td>\n",
       "      <td>False</td>\n",
       "      <td>False</td>\n",
       "      <td>False</td>\n",
       "      <td>False</td>\n",
       "      <td>False</td>\n",
       "      <td>False</td>\n",
       "      <td>False</td>\n",
       "      <td>False</td>\n",
       "    </tr>\n",
       "    <tr>\n",
       "      <th>3</th>\n",
       "      <td>False</td>\n",
       "      <td>False</td>\n",
       "      <td>False</td>\n",
       "      <td>False</td>\n",
       "      <td>True</td>\n",
       "      <td>False</td>\n",
       "      <td>False</td>\n",
       "      <td>False</td>\n",
       "      <td>False</td>\n",
       "      <td>False</td>\n",
       "    </tr>\n",
       "    <tr>\n",
       "      <th>4</th>\n",
       "      <td>True</td>\n",
       "      <td>False</td>\n",
       "      <td>False</td>\n",
       "      <td>False</td>\n",
       "      <td>False</td>\n",
       "      <td>False</td>\n",
       "      <td>False</td>\n",
       "      <td>False</td>\n",
       "      <td>False</td>\n",
       "      <td>False</td>\n",
       "    </tr>\n",
       "  </tbody>\n",
       "</table>\n",
       "</div>"
      ],
      "text/plain": [
       "       0      1      2      3      4      5      6      7      8      9\n",
       "0  False   True  False  False  False  False  False  False  False  False\n",
       "1   True  False  False  False  False  False  False  False  False  False\n",
       "2  False   True  False  False  False  False  False  False  False  False\n",
       "3  False  False  False  False   True  False  False  False  False  False\n",
       "4   True  False  False  False  False  False  False  False  False  False"
      ]
     },
     "execution_count": 9,
     "metadata": {},
     "output_type": "execute_result"
    }
   ],
   "source": [
    "#hotencoding the y\n",
    "y_trainE = pd.get_dummies(y_train)\n",
    "y_trainE.head()"
   ]
  },
  {
   "cell_type": "code",
   "execution_count": 10,
   "id": "882ed0c7",
   "metadata": {
    "execution": {
     "iopub.execute_input": "2025-04-08T14:57:57.106184Z",
     "iopub.status.busy": "2025-04-08T14:57:57.105784Z",
     "iopub.status.idle": "2025-04-08T14:57:57.681522Z",
     "shell.execute_reply": "2025-04-08T14:57:57.680221Z"
    },
    "papermill": {
     "duration": 0.584952,
     "end_time": "2025-04-08T14:57:57.684097",
     "exception": false,
     "start_time": "2025-04-08T14:57:57.099145",
     "status": "completed"
    },
    "tags": []
   },
   "outputs": [],
   "source": [
    "from sklearn.model_selection import train_test_split\n",
    "x_train, x_test, y_train, y_test = train_test_split(x_trainN,y_trainE,test_size = 0.2, random_state=42)"
   ]
  },
  {
   "cell_type": "code",
   "execution_count": 11,
   "id": "bcb57eae",
   "metadata": {
    "execution": {
     "iopub.execute_input": "2025-04-08T14:57:57.698346Z",
     "iopub.status.busy": "2025-04-08T14:57:57.697989Z",
     "iopub.status.idle": "2025-04-08T14:57:57.992282Z",
     "shell.execute_reply": "2025-04-08T14:57:57.991002Z"
    },
    "papermill": {
     "duration": 0.303805,
     "end_time": "2025-04-08T14:57:57.994459",
     "exception": false,
     "start_time": "2025-04-08T14:57:57.690654",
     "status": "completed"
    },
    "tags": []
   },
   "outputs": [
    {
     "data": {
      "image/png": "[encoded data removed]",
      "text/plain": [
       "<Figure size 640x480 with 1 Axes>"
      ]
     },
     "metadata": {},
     "output_type": "display_data"
    }
   ],
   "source": [
    "import matplotlib.pyplot as plt\n",
    "# Some examples\n",
    "g = plt.imshow(x_train[0][:,:,0])\n"
   ]
  },
  {
   "cell_type": "code",
   "execution_count": 12,
   "id": "81bb81e3",
   "metadata": {
    "execution": {
     "iopub.execute_input": "2025-04-08T14:57:58.007589Z",
     "iopub.status.busy": "2025-04-08T14:57:58.007224Z",
     "iopub.status.idle": "2025-04-08T14:58:14.486093Z",
     "shell.execute_reply": "2025-04-08T14:58:14.484785Z"
    },
    "papermill": {
     "duration": 16.487651,
     "end_time": "2025-04-08T14:58:14.488099",
     "exception": false,
     "start_time": "2025-04-08T14:57:58.000448",
     "status": "completed"
    },
    "tags": []
   },
   "outputs": [
    {
     "name": "stderr",
     "output_type": "stream",
     "text": [
      "/usr/local/lib/python3.10/dist-packages/keras/src/layers/convolutional/base_conv.py:107: UserWarning: Do not pass an `input_shape`/`input_dim` argument to a layer. When using Sequential models, prefer using an `Input(shape)` object as the first layer in the model instead.\n",
      "  super().__init__(activity_regularizer=activity_regularizer, **kwargs)\n"
     ]
    }
   ],
   "source": [
    "from keras.models import Sequential\n",
    "from tensorflow.keras.layers import Conv2D, MaxPooling2D, Flatten, Dense, Dropout\n",
    "model = Sequential()\n",
    "model.add(Conv2D(32, kernel_size=(3, 3), activation='relu', input_shape=(28, 28, 1)))\n",
    "model.add(MaxPooling2D(pool_size=(2, 2)))\n",
    "model.add(Conv2D(32, kernel_size=(3,3),activation='relu'))\n",
    "model.add(MaxPooling2D(pool_size=(2,2)))\n",
    "model.add(Dropout(0.2))\n",
    "model.add(Flatten())\n",
    "model.add(Dense(128, activation='relu'))\n",
    "model.add(Dropout(0.2))\n",
    "model.add(Dense(10,activation='softmax'))"
   ]
  },
  {
   "cell_type": "code",
   "execution_count": 13,
   "id": "db4fb7ff",
   "metadata": {
    "execution": {
     "iopub.execute_input": "2025-04-08T14:58:14.501919Z",
     "iopub.status.busy": "2025-04-08T14:58:14.501156Z",
     "iopub.status.idle": "2025-04-08T14:58:14.518284Z",
     "shell.execute_reply": "2025-04-08T14:58:14.516744Z"
    },
    "papermill": {
     "duration": 0.026462,
     "end_time": "2025-04-08T14:58:14.520660",
     "exception": false,
     "start_time": "2025-04-08T14:58:14.494198",
     "status": "completed"
    },
    "tags": []
   },
   "outputs": [],
   "source": [
    "from keras.optimizers import Adam\n",
    "model.compile(optimizer =Adam(learning_rate=0.001),loss = \"categorical_crossentropy\", metrics=[\"accuracy\"])"
   ]
  },
  {
   "cell_type": "code",
   "execution_count": 14,
   "id": "edb51841",
   "metadata": {
    "execution": {
     "iopub.execute_input": "2025-04-08T14:58:14.534312Z",
     "iopub.status.busy": "2025-04-08T14:58:14.533976Z",
     "iopub.status.idle": "2025-04-08T15:02:48.356879Z",
     "shell.execute_reply": "2025-04-08T15:02:48.355544Z"
    },
    "papermill": {
     "duration": 273.83243,
     "end_time": "2025-04-08T15:02:48.359221",
     "exception": false,
     "start_time": "2025-04-08T14:58:14.526791",
     "status": "completed"
    },
    "tags": []
   },
   "outputs": [
    {
     "name": "stdout",
     "output_type": "stream",
     "text": [
      "Epoch 1/20\n",
      "391/391 - 16s - 40ms/step - accuracy: 0.8981 - loss: 0.3279 - val_accuracy: 0.9730 - val_loss: 0.0914\n",
      "Epoch 2/20\n",
      "391/391 - 14s - 36ms/step - accuracy: 0.9695 - loss: 0.0996 - val_accuracy: 0.9812 - val_loss: 0.0618\n",
      "Epoch 3/20\n",
      "391/391 - 13s - 34ms/step - accuracy: 0.9773 - loss: 0.0737 - val_accuracy: 0.9848 - val_loss: 0.0460\n",
      "Epoch 4/20\n",
      "391/391 - 14s - 35ms/step - accuracy: 0.9817 - loss: 0.0564 - val_accuracy: 0.9833 - val_loss: 0.0531\n",
      "Epoch 5/20\n",
      "391/391 - 14s - 35ms/step - accuracy: 0.9843 - loss: 0.0492 - val_accuracy: 0.9862 - val_loss: 0.0416\n",
      "Epoch 6/20\n",
      "391/391 - 13s - 34ms/step - accuracy: 0.9864 - loss: 0.0426 - val_accuracy: 0.9898 - val_loss: 0.0334\n",
      "Epoch 7/20\n",
      "391/391 - 14s - 35ms/step - accuracy: 0.9873 - loss: 0.0380 - val_accuracy: 0.9886 - val_loss: 0.0353\n",
      "Epoch 8/20\n",
      "391/391 - 14s - 35ms/step - accuracy: 0.9893 - loss: 0.0338 - val_accuracy: 0.9914 - val_loss: 0.0276\n",
      "Epoch 9/20\n",
      "391/391 - 14s - 36ms/step - accuracy: 0.9905 - loss: 0.0292 - val_accuracy: 0.9894 - val_loss: 0.0337\n",
      "Epoch 10/20\n",
      "391/391 - 13s - 34ms/step - accuracy: 0.9907 - loss: 0.0281 - val_accuracy: 0.9910 - val_loss: 0.0302\n",
      "Epoch 11/20\n",
      "391/391 - 14s - 35ms/step - accuracy: 0.9922 - loss: 0.0247 - val_accuracy: 0.9898 - val_loss: 0.0290\n",
      "Epoch 12/20\n",
      "391/391 - 14s - 35ms/step - accuracy: 0.9924 - loss: 0.0231 - val_accuracy: 0.9900 - val_loss: 0.0345\n",
      "Epoch 13/20\n",
      "391/391 - 13s - 34ms/step - accuracy: 0.9942 - loss: 0.0192 - val_accuracy: 0.9915 - val_loss: 0.0279\n",
      "Epoch 14/20\n",
      "391/391 - 14s - 36ms/step - accuracy: 0.9936 - loss: 0.0200 - val_accuracy: 0.9918 - val_loss: 0.0270\n",
      "Epoch 15/20\n",
      "391/391 - 13s - 34ms/step - accuracy: 0.9947 - loss: 0.0167 - val_accuracy: 0.9920 - val_loss: 0.0250\n",
      "Epoch 16/20\n",
      "391/391 - 14s - 35ms/step - accuracy: 0.9943 - loss: 0.0177 - val_accuracy: 0.9919 - val_loss: 0.0255\n",
      "Epoch 17/20\n",
      "391/391 - 13s - 34ms/step - accuracy: 0.9943 - loss: 0.0173 - val_accuracy: 0.9915 - val_loss: 0.0299\n",
      "Epoch 18/20\n",
      "391/391 - 13s - 33ms/step - accuracy: 0.9948 - loss: 0.0149 - val_accuracy: 0.9910 - val_loss: 0.0277\n",
      "Epoch 19/20\n",
      "391/391 - 14s - 35ms/step - accuracy: 0.9951 - loss: 0.0146 - val_accuracy: 0.9913 - val_loss: 0.0313\n",
      "Epoch 20/20\n",
      "391/391 - 13s - 34ms/step - accuracy: 0.9950 - loss: 0.0149 - val_accuracy: 0.9930 - val_loss: 0.0227\n"
     ]
    }
   ],
   "source": [
    "epochs = 20\n",
    "batch_size = 86\n",
    "history=model.fit(x_train,y_train, batch_size=batch_size, epochs = epochs, \n",
    "                  validation_data = (x_test,y_test),verbose = 2)\n",
    "##overfitting?improve with augmentation.."
   ]
  },
  {
   "cell_type": "code",
   "execution_count": 15,
   "id": "4a9d7c81",
   "metadata": {
    "execution": {
     "iopub.execute_input": "2025-04-08T15:02:48.377037Z",
     "iopub.status.busy": "2025-04-08T15:02:48.376572Z",
     "iopub.status.idle": "2025-04-08T15:02:48.847914Z",
     "shell.execute_reply": "2025-04-08T15:02:48.846518Z"
    },
    "papermill": {
     "duration": 0.482872,
     "end_time": "2025-04-08T15:02:48.850132",
     "exception": false,
     "start_time": "2025-04-08T15:02:48.367260",
     "status": "completed"
    },
    "tags": []
   },
   "outputs": [
    {
     "data": {
      "text/plain": [
       "Text(0, 0.5, 'Loss')"
      ]
     },
     "execution_count": 15,
     "metadata": {},
     "output_type": "execute_result"
    },
    {
     "data": {
      "image/png": "[encoded data removed]",
      "text/plain": [
       "<Figure size 640x480 with 2 Axes>"
      ]
     },
     "metadata": {},
     "output_type": "display_data"
    }
   ],
   "source": [
    "fig, ax = plt.subplots(2,1)\n",
    "ax[0].plot(history.history['loss'], color='b', label=\"Training loss\")\n",
    "ax[0].plot(history.history['val_loss'], color='r', label=\"validation loss\")\n",
    "legend = ax[0].legend(loc='best', shadow=True)\n",
    "ax[0].set_xlabel('Epochs')  \n",
    "ax[0].set_ylabel('Loss') \n",
    "\n",
    "ax[1].plot(history.history['accuracy'], color='b', label=\"Training accuracy\")\n",
    "ax[1].plot(history.history['val_accuracy'], color='r',label=\"Validation accuracy\")\n",
    "legend = ax[1].legend(loc='best', shadow=True)\n",
    "ax[1].set_xlabel('Epochs')  # X-axis label (epochs)\n",
    "ax[1].set_ylabel('Loss') "
   ]
  },
  {
   "cell_type": "code",
   "execution_count": 16,
   "id": "65b50fa8",
   "metadata": {
    "execution": {
     "iopub.execute_input": "2025-04-08T15:02:48.869863Z",
     "iopub.status.busy": "2025-04-08T15:02:48.869460Z",
     "iopub.status.idle": "2025-04-08T15:02:52.081428Z",
     "shell.execute_reply": "2025-04-08T15:02:52.080271Z"
    },
    "papermill": {
     "duration": 3.224285,
     "end_time": "2025-04-08T15:02:52.083615",
     "exception": false,
     "start_time": "2025-04-08T15:02:48.859330",
     "status": "completed"
    },
    "tags": []
   },
   "outputs": [
    {
     "name": "stdout",
     "output_type": "stream",
     "text": [
      "\u001b[1m263/263\u001b[0m \u001b[32m━━━━━━━━━━━━━━━━━━━━\u001b[0m\u001b[37m\u001b[0m \u001b[1m2s\u001b[0m 7ms/step\n"
     ]
    },
    {
     "data": {
      "image/png": "[encoded data removed]",
      "text/plain": [
       "<Figure size 800x500 with 2 Axes>"
      ]
     },
     "metadata": {},
     "output_type": "display_data"
    }
   ],
   "source": [
    "from sklearn.metrics import confusion_matrix\n",
    "import seaborn as sns\n",
    "\n",
    "y_pred = model.predict(x_test)\n",
    "\n",
    "#convert all to true\n",
    "Y_pred = np.argmax(y_pred, axis=1)\n",
    "Y_true = np.argmax(y_test, axis=1)\n",
    "cm = confusion_matrix(Y_true,Y_pred)\n",
    "#cm = confusion_matrix(y_test,y_pred)\n",
    "plt.figure(figsize=(8,5))\n",
    "sns.heatmap(cm,annot=True,cmap='Blues',fmt= 'd')\n",
    "plt.show()"
   ]
  },
  {
   "cell_type": "code",
   "execution_count": 17,
   "id": "cd171c70",
   "metadata": {
    "execution": {
     "iopub.execute_input": "2025-04-08T15:02:52.111708Z",
     "iopub.status.busy": "2025-04-08T15:02:52.110950Z",
     "iopub.status.idle": "2025-04-08T15:02:58.227218Z",
     "shell.execute_reply": "2025-04-08T15:02:58.225935Z"
    },
    "papermill": {
     "duration": 6.132119,
     "end_time": "2025-04-08T15:02:58.229334",
     "exception": false,
     "start_time": "2025-04-08T15:02:52.097215",
     "status": "completed"
    },
    "tags": []
   },
   "outputs": [
    {
     "name": "stdout",
     "output_type": "stream",
     "text": [
      "\u001b[1m875/875\u001b[0m \u001b[32m━━━━━━━━━━━━━━━━━━━━\u001b[0m\u001b[37m\u001b[0m \u001b[1m5s\u001b[0m 6ms/step\n"
     ]
    }
   ],
   "source": [
    "\n",
    "result = model.predict(x_testN)\n",
    "result = np.argmax(result, axis= 1)\n",
    "\n",
    "submissions=pd.DataFrame({\"ImageId\": list(range(1,len(result)+1)),\n",
    "                         \"Label\": result})"
   ]
  },
  {
   "cell_type": "code",
   "execution_count": 18,
   "id": "669940ce",
   "metadata": {
    "execution": {
     "iopub.execute_input": "2025-04-08T15:02:58.266262Z",
     "iopub.status.busy": "2025-04-08T15:02:58.265819Z",
     "iopub.status.idle": "2025-04-08T15:02:58.298228Z",
     "shell.execute_reply": "2025-04-08T15:02:58.296825Z"
    },
    "papermill": {
     "duration": 0.053162,
     "end_time": "2025-04-08T15:02:58.300431",
     "exception": false,
     "start_time": "2025-04-08T15:02:58.247269",
     "status": "completed"
    },
    "tags": []
   },
   "outputs": [],
   "source": [
    "submissions.to_csv(\"final.csv\", index=False, header=True)"
   ]
  }
 ],
 "metadata": {
  "kaggle": {
   "accelerator": "none",
   "dataSources": [
    {
     "databundleVersionId": 861823,
     "sourceId": 3004,
     "sourceType": "competition"
    }
   ],
   "dockerImageVersionId": 30918,
   "isGpuEnabled": false,
   "isInternetEnabled": false,
   "language": "python",
   "sourceType": "notebook"
  },
  "kernelspec": {
   "display_name": "Python 3",
   "language": "python",
   "name": "python3"
  },
  "language_info": {
   "codemirror_mode": {
    "name": "ipython",
    "version": 3
   },
   "file_extension": ".py",
   "mimetype": "text/x-python",
   "name": "python",
   "nbconvert_exporter": "python",
   "pygments_lexer": "ipython3",
   "version": "3.10.12"
  },
  "papermill": {
   "default_parameters": {},
   "duration": 317.990782,
   "end_time": "2025-04-08T15:03:00.246239",
   "environment_variables": {},
   "exception": null,
   "input_path": "__notebook__.ipynb",
   "output_path": "__notebook__.ipynb",
   "parameters": {},
   "start_time": "2025-04-08T14:57:42.255457",
   "version": "2.6.0"
  }
 },
 "nbformat": 4,
 "nbformat_minor": 5
}
