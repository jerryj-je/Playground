{
 "cells": [
  {
   "cell_type": "code",
   "execution_count": 1,
   "id": "669d6c7c",
   "metadata": {
    "_cell_guid": "b1076dfc-b9ad-4769-8c92-a6c4dae69d19",
    "_uuid": "8f2839f25d086af736a60e9eeb907d3b93b6e0e5",
    "execution": {
     "iopub.execute_input": "2025-04-07T11:27:03.700592Z",
     "iopub.status.busy": "2025-04-07T11:27:03.700186Z",
     "iopub.status.idle": "2025-04-07T11:27:04.814892Z",
     "shell.execute_reply": "2025-04-07T11:27:04.813652Z"
    },
    "papermill": {
     "duration": 1.123266,
     "end_time": "2025-04-07T11:27:04.816923",
     "exception": false,
     "start_time": "2025-04-07T11:27:03.693657",
     "status": "completed"
    },
    "tags": []
   },
   "outputs": [
    {
     "name": "stdout",
     "output_type": "stream",
     "text": [
      "/kaggle/input/titanic/train.csv\n",
      "/kaggle/input/titanic/test.csv\n",
      "/kaggle/input/titanic/gender_submission.csv\n"
     ]
    }
   ],
   "source": [
    "# This Python 3 environment comes with many helpful analytics libraries installed\n",
    "# It is defined by the kaggle/python Docker image: https://github.com/kaggle/docker-python\n",
    "# For example, here's several helpful packages to load\n",
    "\n",
    "import numpy as np # linear algebra\n",
    "import pandas as pd # data processing, CSV file I/O (e.g. pd.read_csv)\n",
    "\n",
    "# Input data files are available in the read-only \"../input/\" directory\n",
    "# For example, running this (by clicking run or pressing Shift+Enter) will list all files under the input directory\n",
    "\n",
    "import os\n",
    "for dirname, _, filenames in os.walk('/kaggle/input'):\n",
    "    for filename in filenames:\n",
    "        print(os.path.join(dirname, filename))\n",
    "\n",
    "# You can write up to 20GB to the current directory (/kaggle/working/) that gets preserved as output when you create a version using \"Save & Run All\" \n",
    "# You can also write temporary files to /kaggle/temp/, but they won't be saved outside of the current session"
   ]
  },
  {
   "cell_type": "code",
   "execution_count": 2,
   "id": "edd0cafa",
   "metadata": {
    "execution": {
     "iopub.execute_input": "2025-04-07T11:27:04.828695Z",
     "iopub.status.busy": "2025-04-07T11:27:04.828152Z",
     "iopub.status.idle": "2025-04-07T11:27:04.853447Z",
     "shell.execute_reply": "2025-04-07T11:27:04.852196Z"
    },
    "papermill": {
     "duration": 0.033608,
     "end_time": "2025-04-07T11:27:04.855868",
     "exception": false,
     "start_time": "2025-04-07T11:27:04.822260",
     "status": "completed"
    },
    "tags": []
   },
   "outputs": [],
   "source": [
    "df = pd.read_csv('/kaggle/input/titanic/train.csv')"
   ]
  },
  {
   "cell_type": "code",
   "execution_count": 3,
   "id": "46c70973",
   "metadata": {
    "execution": {
     "iopub.execute_input": "2025-04-07T11:27:04.868054Z",
     "iopub.status.busy": "2025-04-07T11:27:04.867676Z",
     "iopub.status.idle": "2025-04-07T11:27:04.916690Z",
     "shell.execute_reply": "2025-04-07T11:27:04.915265Z"
    },
    "papermill": {
     "duration": 0.056875,
     "end_time": "2025-04-07T11:27:04.918287",
     "exception": false,
     "start_time": "2025-04-07T11:27:04.861412",
     "status": "completed"
    },
    "tags": []
   },
   "outputs": [
    {
     "name": "stdout",
     "output_type": "stream",
     "text": [
      "<bound method DataFrame.info of      PassengerId  Survived  Pclass  \\\n",
      "0              1         0       3   \n",
      "1              2         1       1   \n",
      "2              3         1       3   \n",
      "3              4         1       1   \n",
      "4              5         0       3   \n",
      "..           ...       ...     ...   \n",
      "886          887         0       2   \n",
      "887          888         1       1   \n",
      "888          889         0       3   \n",
      "889          890         1       1   \n",
      "890          891         0       3   \n",
      "\n",
      "                                                  Name     Sex   Age  SibSp  \\\n",
      "0                              Braund, Mr. Owen Harris    male  22.0      1   \n",
      "1    Cumings, Mrs. John Bradley (Florence Briggs Th...  female  38.0      1   \n",
      "2                               Heikkinen, Miss. Laina  female  26.0      0   \n",
      "3         Futrelle, Mrs. Jacques Heath (Lily May Peel)  female  35.0      1   \n",
      "4                             Allen, Mr. William Henry    male  35.0      0   \n",
      "..                                                 ...     ...   ...    ...   \n",
      "886                              Montvila, Rev. Juozas    male  27.0      0   \n",
      "887                       Graham, Miss. Margaret Edith  female  19.0      0   \n",
      "888           Johnston, Miss. Catherine Helen \"Carrie\"  female   NaN      1   \n",
      "889                              Behr, Mr. Karl Howell    male  26.0      0   \n",
      "890                                Dooley, Mr. Patrick    male  32.0      0   \n",
      "\n",
      "     Parch            Ticket     Fare Cabin Embarked  \n",
      "0        0         A/5 21171   7.2500   NaN        S  \n",
      "1        0          PC 17599  71.2833   C85        C  \n",
      "2        0  STON/O2. 3101282   7.9250   NaN        S  \n",
      "3        0            113803  53.1000  C123        S  \n",
      "4        0            373450   8.0500   NaN        S  \n",
      "..     ...               ...      ...   ...      ...  \n",
      "886      0            211536  13.0000   NaN        S  \n",
      "887      0            112053  30.0000   B42        S  \n",
      "888      2        W./C. 6607  23.4500   NaN        S  \n",
      "889      0            111369  30.0000  C148        C  \n",
      "890      0            370376   7.7500   NaN        Q  \n",
      "\n",
      "[891 rows x 12 columns]>\n"
     ]
    },
    {
     "name": "stderr",
     "output_type": "stream",
     "text": [
      "/usr/local/lib/python3.10/dist-packages/pandas/io/formats/format.py:1458: RuntimeWarning: invalid value encountered in greater\n",
      "  has_large_values = (abs_vals > 1e6).any()\n",
      "/usr/local/lib/python3.10/dist-packages/pandas/io/formats/format.py:1459: RuntimeWarning: invalid value encountered in less\n",
      "  has_small_values = ((abs_vals < 10 ** (-self.digits)) & (abs_vals > 0)).any()\n",
      "/usr/local/lib/python3.10/dist-packages/pandas/io/formats/format.py:1459: RuntimeWarning: invalid value encountered in greater\n",
      "  has_small_values = ((abs_vals < 10 ** (-self.digits)) & (abs_vals > 0)).any()\n"
     ]
    },
    {
     "data": {
      "text/html": [
       "<div>\n",
       "<style scoped>\n",
       "    .dataframe tbody tr th:only-of-type {\n",
       "        vertical-align: middle;\n",
       "    }\n",
       "\n",
       "    .dataframe tbody tr th {\n",
       "        vertical-align: top;\n",
       "    }\n",
       "\n",
       "    .dataframe thead th {\n",
       "        text-align: right;\n",
       "    }\n",
       "</style>\n",
       "<table border=\"1\" class=\"dataframe\">\n",
       "  <thead>\n",
       "    <tr style=\"text-align: right;\">\n",
       "      <th></th>\n",
       "      <th>PassengerId</th>\n",
       "      <th>Survived</th>\n",
       "      <th>Pclass</th>\n",
       "      <th>Name</th>\n",
       "      <th>Sex</th>\n",
       "      <th>Age</th>\n",
       "      <th>SibSp</th>\n",
       "      <th>Parch</th>\n",
       "      <th>Ticket</th>\n",
       "      <th>Fare</th>\n",
       "      <th>Cabin</th>\n",
       "      <th>Embarked</th>\n",
       "    </tr>\n",
       "  </thead>\n",
       "  <tbody>\n",
       "    <tr>\n",
       "      <th>0</th>\n",
       "      <td>1</td>\n",
       "      <td>0</td>\n",
       "      <td>3</td>\n",
       "      <td>Braund, Mr. Owen Harris</td>\n",
       "      <td>male</td>\n",
       "      <td>22.0</td>\n",
       "      <td>1</td>\n",
       "      <td>0</td>\n",
       "      <td>A/5 21171</td>\n",
       "      <td>7.2500</td>\n",
       "      <td>NaN</td>\n",
       "      <td>S</td>\n",
       "    </tr>\n",
       "    <tr>\n",
       "      <th>1</th>\n",
       "      <td>2</td>\n",
       "      <td>1</td>\n",
       "      <td>1</td>\n",
       "      <td>Cumings, Mrs. John Bradley (Florence Briggs Th...</td>\n",
       "      <td>female</td>\n",
       "      <td>38.0</td>\n",
       "      <td>1</td>\n",
       "      <td>0</td>\n",
       "      <td>PC 17599</td>\n",
       "      <td>71.2833</td>\n",
       "      <td>C85</td>\n",
       "      <td>C</td>\n",
       "    </tr>\n",
       "    <tr>\n",
       "      <th>2</th>\n",
       "      <td>3</td>\n",
       "      <td>1</td>\n",
       "      <td>3</td>\n",
       "      <td>Heikkinen, Miss. Laina</td>\n",
       "      <td>female</td>\n",
       "      <td>26.0</td>\n",
       "      <td>0</td>\n",
       "      <td>0</td>\n",
       "      <td>STON/O2. 3101282</td>\n",
       "      <td>7.9250</td>\n",
       "      <td>NaN</td>\n",
       "      <td>S</td>\n",
       "    </tr>\n",
       "    <tr>\n",
       "      <th>3</th>\n",
       "      <td>4</td>\n",
       "      <td>1</td>\n",
       "      <td>1</td>\n",
       "      <td>Futrelle, Mrs. Jacques Heath (Lily May Peel)</td>\n",
       "      <td>female</td>\n",
       "      <td>35.0</td>\n",
       "      <td>1</td>\n",
       "      <td>0</td>\n",
       "      <td>113803</td>\n",
       "      <td>53.1000</td>\n",
       "      <td>C123</td>\n",
       "      <td>S</td>\n",
       "    </tr>\n",
       "    <tr>\n",
       "      <th>4</th>\n",
       "      <td>5</td>\n",
       "      <td>0</td>\n",
       "      <td>3</td>\n",
       "      <td>Allen, Mr. William Henry</td>\n",
       "      <td>male</td>\n",
       "      <td>35.0</td>\n",
       "      <td>0</td>\n",
       "      <td>0</td>\n",
       "      <td>373450</td>\n",
       "      <td>8.0500</td>\n",
       "      <td>NaN</td>\n",
       "      <td>S</td>\n",
       "    </tr>\n",
       "  </tbody>\n",
       "</table>\n",
       "</div>"
      ],
      "text/plain": [
       "   PassengerId  Survived  Pclass  \\\n",
       "0            1         0       3   \n",
       "1            2         1       1   \n",
       "2            3         1       3   \n",
       "3            4         1       1   \n",
       "4            5         0       3   \n",
       "\n",
       "                                                Name     Sex   Age  SibSp  \\\n",
       "0                            Braund, Mr. Owen Harris    male  22.0      1   \n",
       "1  Cumings, Mrs. John Bradley (Florence Briggs Th...  female  38.0      1   \n",
       "2                             Heikkinen, Miss. Laina  female  26.0      0   \n",
       "3       Futrelle, Mrs. Jacques Heath (Lily May Peel)  female  35.0      1   \n",
       "4                           Allen, Mr. William Henry    male  35.0      0   \n",
       "\n",
       "   Parch            Ticket     Fare Cabin Embarked  \n",
       "0      0         A/5 21171   7.2500   NaN        S  \n",
       "1      0          PC 17599  71.2833   C85        C  \n",
       "2      0  STON/O2. 3101282   7.9250   NaN        S  \n",
       "3      0            113803  53.1000  C123        S  \n",
       "4      0            373450   8.0500   NaN        S  "
      ]
     },
     "execution_count": 3,
     "metadata": {},
     "output_type": "execute_result"
    }
   ],
   "source": [
    "\n",
    "print(df.info)\n",
    "df.head()"
   ]
  },
  {
   "cell_type": "code",
   "execution_count": 4,
   "id": "161bfd63",
   "metadata": {
    "execution": {
     "iopub.execute_input": "2025-04-07T11:27:04.929979Z",
     "iopub.status.busy": "2025-04-07T11:27:04.929676Z",
     "iopub.status.idle": "2025-04-07T11:27:04.974888Z",
     "shell.execute_reply": "2025-04-07T11:27:04.973630Z"
    },
    "papermill": {
     "duration": 0.053083,
     "end_time": "2025-04-07T11:27:04.976683",
     "exception": false,
     "start_time": "2025-04-07T11:27:04.923600",
     "status": "completed"
    },
    "tags": []
   },
   "outputs": [
    {
     "name": "stdout",
     "output_type": "stream",
     "text": [
      "       PassengerId    Survived      Pclass         Age       SibSp  \\\n",
      "count   891.000000  891.000000  891.000000  714.000000  891.000000   \n",
      "mean    446.000000    0.383838    2.308642   29.699118    0.523008   \n",
      "std     257.353842    0.486592    0.836071   14.526497    1.102743   \n",
      "min       1.000000    0.000000    1.000000    0.420000    0.000000   \n",
      "25%     223.500000    0.000000    2.000000   20.125000    0.000000   \n",
      "50%     446.000000    0.000000    3.000000   28.000000    0.000000   \n",
      "75%     668.500000    1.000000    3.000000   38.000000    1.000000   \n",
      "max     891.000000    1.000000    3.000000   80.000000    8.000000   \n",
      "\n",
      "            Parch        Fare  \n",
      "count  891.000000  891.000000  \n",
      "mean     0.381594   32.204208  \n",
      "std      0.806057   49.693429  \n",
      "min      0.000000    0.000000  \n",
      "25%      0.000000    7.910400  \n",
      "50%      0.000000   14.454200  \n",
      "75%      0.000000   31.000000  \n",
      "max      6.000000  512.329200  \n",
      "<class 'pandas.core.frame.DataFrame'>\n",
      "RangeIndex: 891 entries, 0 to 890\n",
      "Data columns (total 12 columns):\n",
      " #   Column       Non-Null Count  Dtype  \n",
      "---  ------       --------------  -----  \n",
      " 0   PassengerId  891 non-null    int64  \n",
      " 1   Survived     891 non-null    int64  \n",
      " 2   Pclass       891 non-null    int64  \n",
      " 3   Name         891 non-null    object \n",
      " 4   Sex          891 non-null    object \n",
      " 5   Age          714 non-null    float64\n",
      " 6   SibSp        891 non-null    int64  \n",
      " 7   Parch        891 non-null    int64  \n",
      " 8   Ticket       891 non-null    object \n",
      " 9   Fare         891 non-null    float64\n",
      " 10  Cabin        204 non-null    object \n",
      " 11  Embarked     889 non-null    object \n",
      "dtypes: float64(2), int64(5), object(5)\n",
      "memory usage: 83.7+ KB\n"
     ]
    }
   ],
   "source": [
    "print(df.describe())\n",
    "df.info()"
   ]
  },
  {
   "cell_type": "code",
   "execution_count": 5,
   "id": "b87f97ad",
   "metadata": {
    "execution": {
     "iopub.execute_input": "2025-04-07T11:27:04.988702Z",
     "iopub.status.busy": "2025-04-07T11:27:04.988330Z",
     "iopub.status.idle": "2025-04-07T11:27:04.995335Z",
     "shell.execute_reply": "2025-04-07T11:27:04.994184Z"
    },
    "papermill": {
     "duration": 0.014825,
     "end_time": "2025-04-07T11:27:04.997007",
     "exception": false,
     "start_time": "2025-04-07T11:27:04.982182",
     "status": "completed"
    },
    "tags": []
   },
   "outputs": [
    {
     "name": "stdout",
     "output_type": "stream",
     "text": [
      "PassengerId      0\n",
      "Survived         0\n",
      "Pclass           0\n",
      "Name             0\n",
      "Sex              0\n",
      "Age            177\n",
      "SibSp            0\n",
      "Parch            0\n",
      "Ticket           0\n",
      "Fare             0\n",
      "Cabin          687\n",
      "Embarked         2\n",
      "dtype: int64\n"
     ]
    }
   ],
   "source": [
    "print(df.isnull().sum())"
   ]
  },
  {
   "cell_type": "code",
   "execution_count": 6,
   "id": "b9e9eb63",
   "metadata": {
    "execution": {
     "iopub.execute_input": "2025-04-07T11:27:05.010481Z",
     "iopub.status.busy": "2025-04-07T11:27:05.010075Z",
     "iopub.status.idle": "2025-04-07T11:27:05.020279Z",
     "shell.execute_reply": "2025-04-07T11:27:05.019164Z"
    },
    "papermill": {
     "duration": 0.018126,
     "end_time": "2025-04-07T11:27:05.021860",
     "exception": false,
     "start_time": "2025-04-07T11:27:05.003734",
     "status": "completed"
    },
    "tags": []
   },
   "outputs": [],
   "source": [
    "#removing the cabin column and rows with two misssing values of embarked\n",
    "df.drop(columns=[\"Cabin\",\"Name\",\"Ticket\"], inplace=True)\n",
    "df.dropna(subset=[\"Embarked\"], inplace=True)"
   ]
  },
  {
   "cell_type": "code",
   "execution_count": 7,
   "id": "93e24308",
   "metadata": {
    "execution": {
     "iopub.execute_input": "2025-04-07T11:27:05.034028Z",
     "iopub.status.busy": "2025-04-07T11:27:05.033713Z",
     "iopub.status.idle": "2025-04-07T11:27:05.040446Z",
     "shell.execute_reply": "2025-04-07T11:27:05.039351Z"
    },
    "papermill": {
     "duration": 0.014677,
     "end_time": "2025-04-07T11:27:05.042095",
     "exception": false,
     "start_time": "2025-04-07T11:27:05.027418",
     "status": "completed"
    },
    "tags": []
   },
   "outputs": [
    {
     "name": "stdout",
     "output_type": "stream",
     "text": [
      "PassengerId      0\n",
      "Survived         0\n",
      "Pclass           0\n",
      "Sex              0\n",
      "Age            177\n",
      "SibSp            0\n",
      "Parch            0\n",
      "Fare             0\n",
      "Embarked         0\n",
      "dtype: int64\n"
     ]
    }
   ],
   "source": [
    "df.head()\n",
    "df.tail()\n",
    "print(df.isnull().sum())"
   ]
  },
  {
   "cell_type": "code",
   "execution_count": 8,
   "id": "14fa441e",
   "metadata": {
    "execution": {
     "iopub.execute_input": "2025-04-07T11:27:05.054880Z",
     "iopub.status.busy": "2025-04-07T11:27:05.054497Z",
     "iopub.status.idle": "2025-04-07T11:27:06.906642Z",
     "shell.execute_reply": "2025-04-07T11:27:06.905499Z"
    },
    "papermill": {
     "duration": 1.860482,
     "end_time": "2025-04-07T11:27:06.908411",
     "exception": false,
     "start_time": "2025-04-07T11:27:05.047929",
     "status": "completed"
    },
    "tags": []
   },
   "outputs": [
    {
     "name": "stdout",
     "output_type": "stream",
     "text": [
      "29.64209269662921 nan ModeResult(mode=nan, count=177)\n"
     ]
    },
    {
     "data": {
      "image/png": "[encoded data removed]",
      "text/plain": [
       "<Figure size 640x480 with 1 Axes>"
      ]
     },
     "metadata": {},
     "output_type": "display_data"
    }
   ],
   "source": [
    "#Now comes age, there is 177 missing values , i believe age can be a deciding factor, so looking more into age column\n",
    "g1 = df.plot.scatter(x=\"PassengerId\", y= \"Age\")\n",
    "from scipy import stats\n",
    "a = np.mean(df[\"Age\"])\n",
    "b = np.median(df[\"Age\"])\n",
    "c= stats.mode(df[\"Age\"])\n",
    "print(a,b,c)"
   ]
  },
  {
   "cell_type": "code",
   "execution_count": 9,
   "id": "4add5023",
   "metadata": {
    "execution": {
     "iopub.execute_input": "2025-04-07T11:27:06.922722Z",
     "iopub.status.busy": "2025-04-07T11:27:06.922169Z",
     "iopub.status.idle": "2025-04-07T11:27:07.274927Z",
     "shell.execute_reply": "2025-04-07T11:27:07.273696Z"
    },
    "papermill": {
     "duration": 0.362318,
     "end_time": "2025-04-07T11:27:07.277279",
     "exception": false,
     "start_time": "2025-04-07T11:27:06.914961",
     "status": "completed"
    },
    "tags": []
   },
   "outputs": [],
   "source": [
    "#there seems to be no relation with the order in which the data is given\n",
    "#for now we will impute with the mean value\n",
    "#we need to split the data into training and test data before imputation to decrase data leakeage\n",
    "from sklearn.model_selection import train_test_split\n",
    "#splitting into input and output\n",
    "x=df.drop(columns=\"Survived\")\n",
    "y=df['Survived']"
   ]
  },
  {
   "cell_type": "code",
   "execution_count": 10,
   "id": "01f05978",
   "metadata": {
    "execution": {
     "iopub.execute_input": "2025-04-07T11:27:07.292271Z",
     "iopub.status.busy": "2025-04-07T11:27:07.291921Z",
     "iopub.status.idle": "2025-04-07T11:27:07.300943Z",
     "shell.execute_reply": "2025-04-07T11:27:07.300061Z"
    },
    "papermill": {
     "duration": 0.018222,
     "end_time": "2025-04-07T11:27:07.302662",
     "exception": false,
     "start_time": "2025-04-07T11:27:07.284440",
     "status": "completed"
    },
    "tags": []
   },
   "outputs": [
    {
     "name": "stdout",
     "output_type": "stream",
     "text": [
      "(711, 8) (178, 8)\n",
      "(178,) (711,)\n",
      "0\n"
     ]
    }
   ],
   "source": [
    "#splitting data to testtrain\n",
    "x_train,x_test,y_train,y_test = train_test_split(x,y,test_size=0.2,random_state=42)\n",
    "print(x_train.shape,x_test.shape)\n",
    "print(y_test.shape,y_train.shape)\n",
    "\n",
    "print(y_train.isnull().sum())"
   ]
  },
  {
   "cell_type": "code",
   "execution_count": 11,
   "id": "1e3c77db",
   "metadata": {
    "execution": {
     "iopub.execute_input": "2025-04-07T11:27:07.317349Z",
     "iopub.status.busy": "2025-04-07T11:27:07.316948Z",
     "iopub.status.idle": "2025-04-07T11:27:07.325912Z",
     "shell.execute_reply": "2025-04-07T11:27:07.324811Z"
    },
    "papermill": {
     "duration": 0.01828,
     "end_time": "2025-04-07T11:27:07.327681",
     "exception": false,
     "start_time": "2025-04-07T11:27:07.309401",
     "status": "completed"
    },
    "tags": []
   },
   "outputs": [
    {
     "name": "stdout",
     "output_type": "stream",
     "text": [
      "29.905744680851065 28.637364864864864\n"
     ]
    },
    {
     "name": "stderr",
     "output_type": "stream",
     "text": [
      "<ipython-input-11-6eec2e2f0913>:5: FutureWarning: A value is trying to be set on a copy of a DataFrame or Series through chained assignment using an inplace method.\n",
      "The behavior will change in pandas 3.0. This inplace method will never work because the intermediate object on which we are setting values always behaves as a copy.\n",
      "\n",
      "For example, when doing 'df[col].method(value, inplace=True)', try using 'df.method({col: value}, inplace=True)' or df[col] = df[col].method(value) instead, to perform the operation inplace on the original object.\n",
      "\n",
      "\n",
      "  x_train['Age'].fillna(m1, inplace=True)\n",
      "<ipython-input-11-6eec2e2f0913>:6: FutureWarning: A value is trying to be set on a copy of a DataFrame or Series through chained assignment using an inplace method.\n",
      "The behavior will change in pandas 3.0. This inplace method will never work because the intermediate object on which we are setting values always behaves as a copy.\n",
      "\n",
      "For example, when doing 'df[col].method(value, inplace=True)', try using 'df.method({col: value}, inplace=True)' or df[col] = df[col].method(value) instead, to perform the operation inplace on the original object.\n",
      "\n",
      "\n",
      "  x_test['Age'].fillna(m2, inplace=True)\n"
     ]
    }
   ],
   "source": [
    "m1 = x_train['Age'].mean()\n",
    "m2 = x_test['Age'].mean()\n",
    "print(m1,m2)\n",
    "\n",
    "x_train['Age'].fillna(m1, inplace=True)\n",
    "x_test['Age'].fillna(m2, inplace=True)\n"
   ]
  },
  {
   "cell_type": "code",
   "execution_count": 12,
   "id": "f3f73cab",
   "metadata": {
    "execution": {
     "iopub.execute_input": "2025-04-07T11:27:07.342235Z",
     "iopub.status.busy": "2025-04-07T11:27:07.341877Z",
     "iopub.status.idle": "2025-04-07T11:27:07.349850Z",
     "shell.execute_reply": "2025-04-07T11:27:07.348636Z"
    },
    "papermill": {
     "duration": 0.017217,
     "end_time": "2025-04-07T11:27:07.351631",
     "exception": false,
     "start_time": "2025-04-07T11:27:07.334414",
     "status": "completed"
    },
    "tags": []
   },
   "outputs": [
    {
     "name": "stdout",
     "output_type": "stream",
     "text": [
      "PassengerId    0\n",
      "Pclass         0\n",
      "Sex            0\n",
      "Age            0\n",
      "SibSp          0\n",
      "Parch          0\n",
      "Fare           0\n",
      "Embarked       0\n",
      "dtype: int64\n",
      "PassengerId    0\n",
      "Pclass         0\n",
      "Sex            0\n",
      "Age            0\n",
      "SibSp          0\n",
      "Parch          0\n",
      "Fare           0\n",
      "Embarked       0\n",
      "dtype: int64\n"
     ]
    }
   ],
   "source": [
    "print(x_train.isnull().sum())\n",
    "print(x_test.isnull().sum())"
   ]
  },
  {
   "cell_type": "code",
   "execution_count": 13,
   "id": "89691cc3",
   "metadata": {
    "execution": {
     "iopub.execute_input": "2025-04-07T11:27:07.366477Z",
     "iopub.status.busy": "2025-04-07T11:27:07.366132Z",
     "iopub.status.idle": "2025-04-07T11:27:07.392773Z",
     "shell.execute_reply": "2025-04-07T11:27:07.391394Z"
    },
    "papermill": {
     "duration": 0.03596,
     "end_time": "2025-04-07T11:27:07.394579",
     "exception": false,
     "start_time": "2025-04-07T11:27:07.358619",
     "status": "completed"
    },
    "tags": []
   },
   "outputs": [
    {
     "name": "stdout",
     "output_type": "stream",
     "text": [
      "<class 'pandas.core.frame.DataFrame'>\n",
      "Index: 711 entries, 708 to 103\n",
      "Data columns (total 11 columns):\n",
      " #   Column       Non-Null Count  Dtype  \n",
      "---  ------       --------------  -----  \n",
      " 0   PassengerId  711 non-null    int64  \n",
      " 1   Pclass       711 non-null    int64  \n",
      " 2   Age          711 non-null    float64\n",
      " 3   SibSp        711 non-null    int64  \n",
      " 4   Parch        711 non-null    int64  \n",
      " 5   Fare         711 non-null    float64\n",
      " 6   Sex_female   711 non-null    bool   \n",
      " 7   Sex_male     711 non-null    bool   \n",
      " 8   Embarked_C   711 non-null    bool   \n",
      " 9   Embarked_Q   711 non-null    bool   \n",
      " 10  Embarked_S   711 non-null    bool   \n",
      "dtypes: bool(5), float64(2), int64(4)\n",
      "memory usage: 42.4 KB\n",
      "<class 'pandas.core.frame.DataFrame'>\n",
      "Index: 178 entries, 281 to 10\n",
      "Data columns (total 11 columns):\n",
      " #   Column       Non-Null Count  Dtype  \n",
      "---  ------       --------------  -----  \n",
      " 0   PassengerId  178 non-null    int64  \n",
      " 1   Pclass       178 non-null    int64  \n",
      " 2   Age          178 non-null    float64\n",
      " 3   SibSp        178 non-null    int64  \n",
      " 4   Parch        178 non-null    int64  \n",
      " 5   Fare         178 non-null    float64\n",
      " 6   Sex_female   178 non-null    bool   \n",
      " 7   Sex_male     178 non-null    bool   \n",
      " 8   Embarked_C   178 non-null    bool   \n",
      " 9   Embarked_Q   178 non-null    bool   \n",
      " 10  Embarked_S   178 non-null    bool   \n",
      "dtypes: bool(5), float64(2), int64(4)\n",
      "memory usage: 10.6 KB\n",
      "<class 'pandas.core.series.Series'>\n",
      "Index: 711 entries, 708 to 103\n",
      "Series name: Survived\n",
      "Non-Null Count  Dtype\n",
      "--------------  -----\n",
      "711 non-null    int64\n",
      "dtypes: int64(1)\n",
      "memory usage: 11.1 KB\n"
     ]
    }
   ],
   "source": [
    "x_train = pd.get_dummies(x_train)\n",
    "x_test = pd.get_dummies(x_test)\n",
    "\n",
    "x_train.info()\n",
    "x_test.info()\n",
    "y_train.info()"
   ]
  },
  {
   "cell_type": "code",
   "execution_count": 14,
   "id": "de5ea848",
   "metadata": {
    "execution": {
     "iopub.execute_input": "2025-04-07T11:27:07.409817Z",
     "iopub.status.busy": "2025-04-07T11:27:07.409404Z",
     "iopub.status.idle": "2025-04-07T11:27:07.416629Z",
     "shell.execute_reply": "2025-04-07T11:27:07.415452Z"
    },
    "papermill": {
     "duration": 0.016415,
     "end_time": "2025-04-07T11:27:07.418192",
     "exception": false,
     "start_time": "2025-04-07T11:27:07.401777",
     "status": "completed"
    },
    "tags": []
   },
   "outputs": [
    {
     "name": "stdout",
     "output_type": "stream",
     "text": [
      "PassengerId    0\n",
      "Pclass         0\n",
      "Age            0\n",
      "SibSp          0\n",
      "Parch          0\n",
      "Fare           0\n",
      "Sex_female     0\n",
      "Sex_male       0\n",
      "Embarked_C     0\n",
      "Embarked_Q     0\n",
      "Embarked_S     0\n",
      "dtype: int64\n"
     ]
    }
   ],
   "source": [
    "print(x_train.isnull().sum())"
   ]
  },
  {
   "cell_type": "code",
   "execution_count": 15,
   "id": "ae9ef6a0",
   "metadata": {
    "execution": {
     "iopub.execute_input": "2025-04-07T11:27:07.433519Z",
     "iopub.status.busy": "2025-04-07T11:27:07.433186Z",
     "iopub.status.idle": "2025-04-07T11:27:07.755432Z",
     "shell.execute_reply": "2025-04-07T11:27:07.754426Z"
    },
    "papermill": {
     "duration": 0.331885,
     "end_time": "2025-04-07T11:27:07.757222",
     "exception": false,
     "start_time": "2025-04-07T11:27:07.425337",
     "status": "completed"
    },
    "tags": []
   },
   "outputs": [],
   "source": [
    "from sklearn import tree\n",
    "clf = tree.DecisionTreeClassifier()\n",
    "clf = clf.fit(x_train, y_train)"
   ]
  },
  {
   "cell_type": "code",
   "execution_count": 16,
   "id": "8a9568b9",
   "metadata": {
    "execution": {
     "iopub.execute_input": "2025-04-07T11:27:07.772380Z",
     "iopub.status.busy": "2025-04-07T11:27:07.771955Z",
     "iopub.status.idle": "2025-04-07T11:27:07.791401Z",
     "shell.execute_reply": "2025-04-07T11:27:07.789971Z"
    },
    "papermill": {
     "duration": 0.028995,
     "end_time": "2025-04-07T11:27:07.793185",
     "exception": false,
     "start_time": "2025-04-07T11:27:07.764190",
     "status": "completed"
    },
    "tags": []
   },
   "outputs": [
    {
     "name": "stdout",
     "output_type": "stream",
     "text": [
      "1.0\n",
      "0.7303370786516854\n",
      "              precision    recall  f1-score   support\n",
      "\n",
      "           0       0.81      0.73      0.77       109\n",
      "           1       0.63      0.72      0.68        69\n",
      "\n",
      "    accuracy                           0.73       178\n",
      "   macro avg       0.72      0.73      0.72       178\n",
      "weighted avg       0.74      0.73      0.73       178\n",
      "\n"
     ]
    }
   ],
   "source": [
    "from sklearn.metrics import accuracy_score, classification_report\n",
    "y_train_pred = clf.predict(x_train)\n",
    "y_test_pred = clf.predict(x_test)\n",
    "print(accuracy_score(y_train, y_train_pred)) \n",
    "print(accuracy_score(y_test,y_test_pred))\n",
    "print(classification_report(y_test, y_test_pred))\n",
    "#probable overfitting"
   ]
  },
  {
   "cell_type": "code",
   "execution_count": 17,
   "id": "29c78c3b",
   "metadata": {
    "execution": {
     "iopub.execute_input": "2025-04-07T11:27:07.808738Z",
     "iopub.status.busy": "2025-04-07T11:27:07.808343Z",
     "iopub.status.idle": "2025-04-07T11:27:07.828806Z",
     "shell.execute_reply": "2025-04-07T11:27:07.827483Z"
    },
    "papermill": {
     "duration": 0.030368,
     "end_time": "2025-04-07T11:27:07.830642",
     "exception": false,
     "start_time": "2025-04-07T11:27:07.800274",
     "status": "completed"
    },
    "tags": []
   },
   "outputs": [
    {
     "name": "stdout",
     "output_type": "stream",
     "text": [
      "<class 'pandas.core.frame.DataFrame'>\n",
      "RangeIndex: 418 entries, 0 to 417\n",
      "Data columns (total 11 columns):\n",
      " #   Column       Non-Null Count  Dtype  \n",
      "---  ------       --------------  -----  \n",
      " 0   PassengerId  418 non-null    int64  \n",
      " 1   Pclass       418 non-null    int64  \n",
      " 2   Name         418 non-null    object \n",
      " 3   Sex          418 non-null    object \n",
      " 4   Age          332 non-null    float64\n",
      " 5   SibSp        418 non-null    int64  \n",
      " 6   Parch        418 non-null    int64  \n",
      " 7   Ticket       418 non-null    object \n",
      " 8   Fare         417 non-null    float64\n",
      " 9   Cabin        91 non-null     object \n",
      " 10  Embarked     418 non-null    object \n",
      "dtypes: float64(2), int64(4), object(5)\n",
      "memory usage: 36.0+ KB\n"
     ]
    }
   ],
   "source": [
    "df1 = pd.read_csv('/kaggle/input/titanic/test.csv')\n",
    "df1.info()\n",
    "df1.drop(columns=[\"Cabin\",\"Name\",\"Ticket\"], inplace=True)"
   ]
  },
  {
   "cell_type": "code",
   "execution_count": 18,
   "id": "787e1af0",
   "metadata": {
    "execution": {
     "iopub.execute_input": "2025-04-07T11:27:07.846721Z",
     "iopub.status.busy": "2025-04-07T11:27:07.846317Z",
     "iopub.status.idle": "2025-04-07T11:27:07.853133Z",
     "shell.execute_reply": "2025-04-07T11:27:07.851863Z"
    },
    "papermill": {
     "duration": 0.01736,
     "end_time": "2025-04-07T11:27:07.855198",
     "exception": false,
     "start_time": "2025-04-07T11:27:07.837838",
     "status": "completed"
    },
    "tags": []
   },
   "outputs": [
    {
     "name": "stdout",
     "output_type": "stream",
     "text": [
      "PassengerId     0\n",
      "Pclass          0\n",
      "Sex             0\n",
      "Age            86\n",
      "SibSp           0\n",
      "Parch           0\n",
      "Fare            1\n",
      "Embarked        0\n",
      "dtype: int64\n"
     ]
    }
   ],
   "source": [
    "print(df1.isnull().sum())"
   ]
  },
  {
   "cell_type": "code",
   "execution_count": 19,
   "id": "3786cfeb",
   "metadata": {
    "execution": {
     "iopub.execute_input": "2025-04-07T11:27:07.870732Z",
     "iopub.status.busy": "2025-04-07T11:27:07.870341Z",
     "iopub.status.idle": "2025-04-07T11:27:07.877708Z",
     "shell.execute_reply": "2025-04-07T11:27:07.876380Z"
    },
    "papermill": {
     "duration": 0.017059,
     "end_time": "2025-04-07T11:27:07.879744",
     "exception": false,
     "start_time": "2025-04-07T11:27:07.862685",
     "status": "completed"
    },
    "tags": []
   },
   "outputs": [
    {
     "name": "stdout",
     "output_type": "stream",
     "text": [
      "30.272590361445783 35.627188489208635\n"
     ]
    },
    {
     "name": "stderr",
     "output_type": "stream",
     "text": [
      "<ipython-input-19-78213105aa45>:5: FutureWarning: A value is trying to be set on a copy of a DataFrame or Series through chained assignment using an inplace method.\n",
      "The behavior will change in pandas 3.0. This inplace method will never work because the intermediate object on which we are setting values always behaves as a copy.\n",
      "\n",
      "For example, when doing 'df[col].method(value, inplace=True)', try using 'df.method({col: value}, inplace=True)' or df[col] = df[col].method(value) instead, to perform the operation inplace on the original object.\n",
      "\n",
      "\n",
      "  df1['Age'].fillna(s1, inplace=True)\n",
      "<ipython-input-19-78213105aa45>:6: FutureWarning: A value is trying to be set on a copy of a DataFrame or Series through chained assignment using an inplace method.\n",
      "The behavior will change in pandas 3.0. This inplace method will never work because the intermediate object on which we are setting values always behaves as a copy.\n",
      "\n",
      "For example, when doing 'df[col].method(value, inplace=True)', try using 'df.method({col: value}, inplace=True)' or df[col] = df[col].method(value) instead, to perform the operation inplace on the original object.\n",
      "\n",
      "\n",
      "  df1['Fare'].fillna(s2, inplace=True)\n"
     ]
    }
   ],
   "source": [
    "s1 = df1['Age'].mean()\n",
    "s2 = df1['Fare'].mean()\n",
    "print(s1,s2)\n",
    "\n",
    "df1['Age'].fillna(s1, inplace=True)\n",
    "df1['Fare'].fillna(s2, inplace=True)"
   ]
  },
  {
   "cell_type": "code",
   "execution_count": 20,
   "id": "a2402502",
   "metadata": {
    "execution": {
     "iopub.execute_input": "2025-04-07T11:27:07.895723Z",
     "iopub.status.busy": "2025-04-07T11:27:07.895330Z",
     "iopub.status.idle": "2025-04-07T11:27:07.901777Z",
     "shell.execute_reply": "2025-04-07T11:27:07.900321Z"
    },
    "papermill": {
     "duration": 0.016075,
     "end_time": "2025-04-07T11:27:07.903440",
     "exception": false,
     "start_time": "2025-04-07T11:27:07.887365",
     "status": "completed"
    },
    "tags": []
   },
   "outputs": [
    {
     "name": "stdout",
     "output_type": "stream",
     "text": [
      "PassengerId    0\n",
      "Pclass         0\n",
      "Sex            0\n",
      "Age            0\n",
      "SibSp          0\n",
      "Parch          0\n",
      "Fare           0\n",
      "Embarked       0\n",
      "dtype: int64\n"
     ]
    }
   ],
   "source": [
    "print(df1.isnull().sum())"
   ]
  },
  {
   "cell_type": "code",
   "execution_count": 21,
   "id": "2d3bb1eb",
   "metadata": {
    "execution": {
     "iopub.execute_input": "2025-04-07T11:27:07.919811Z",
     "iopub.status.busy": "2025-04-07T11:27:07.919417Z",
     "iopub.status.idle": "2025-04-07T11:27:07.928749Z",
     "shell.execute_reply": "2025-04-07T11:27:07.927935Z"
    },
    "papermill": {
     "duration": 0.019412,
     "end_time": "2025-04-07T11:27:07.930316",
     "exception": false,
     "start_time": "2025-04-07T11:27:07.910904",
     "status": "completed"
    },
    "tags": []
   },
   "outputs": [],
   "source": [
    "x_pred = pd.get_dummies(df1)\n",
    "#x_pred.info()\n",
    "y_pred = clf.predict(x_pred)\n"
   ]
  },
  {
   "cell_type": "code",
   "execution_count": 22,
   "id": "2c3098b4",
   "metadata": {
    "execution": {
     "iopub.execute_input": "2025-04-07T11:27:07.946287Z",
     "iopub.status.busy": "2025-04-07T11:27:07.945949Z",
     "iopub.status.idle": "2025-04-07T11:27:07.952189Z",
     "shell.execute_reply": "2025-04-07T11:27:07.951013Z"
    },
    "papermill": {
     "duration": 0.015926,
     "end_time": "2025-04-07T11:27:07.953781",
     "exception": false,
     "start_time": "2025-04-07T11:27:07.937855",
     "status": "completed"
    },
    "tags": []
   },
   "outputs": [
    {
     "name": "stdout",
     "output_type": "stream",
     "text": [
      "[0 0 0 0 0 0 1 1 0 0 0 0 1 0 1 1 0 1 0 0 1 1 1 0 1 0 1 1 1 0 0 0 0 0 1 1 0\n",
      " 0 0 1 1 1 0 1 1 0 1 0 1 0 1 1 1 1 1 0 0 0 0 1 0 0 0 1 1 1 0 0 1 1 1 0 0 1\n",
      " 1 1 0 1 0 1 1 1 0 0 0 0 1 0 0 1 0 0 1 0 1 0 1 0 0 0 1 0 0 0 1 0 0 0 0 0 1\n",
      " 0 1 0 1 1 0 0 1 1 1 0 1 0 0 0 0 0 0 0 0 1 0 0 0 0 0 0 0 1 0 1 1 0 1 0 1 0\n",
      " 1 0 1 0 1 0 0 0 1 0 1 0 0 1 1 0 0 0 0 0 1 0 0 0 0 0 0 1 1 1 1 1 0 0 1 0 1\n",
      " 0 1 0 0 0 0 0 1 0 0 0 1 0 0 0 0 1 1 1 0 1 0 0 1 0 0 0 0 1 0 0 0 1 1 0 1 0\n",
      " 1 0 1 0 0 0 0 0 0 1 0 0 1 0 1 1 1 1 1 1 1 0 0 1 1 0 1 0 1 0 1 0 0 0 0 0 1\n",
      " 0 0 0 1 0 1 0 0 0 0 0 1 0 1 0 0 1 0 0 0 0 0 1 0 1 0 0 0 0 0 0 0 1 0 0 0 0\n",
      " 1 0 0 0 0 1 0 0 0 1 1 1 0 0 0 1 0 0 1 0 1 0 0 0 0 0 0 1 1 0 1 0 0 0 1 1 0\n",
      " 0 0 0 0 1 0 0 0 0 1 1 0 0 0 0 0 1 1 0 0 1 0 0 1 0 0 0 0 1 1 0 1 0 0 0 1 1\n",
      " 0 1 0 0 1 1 0 0 0 0 0 0 0 0 0 1 0 0 0 0 0 1 0 0 0 1 0 1 0 0 1 0 1 0 1 1 0\n",
      " 1 0 0 0 1 0 0 1 0 0 1]\n"
     ]
    }
   ],
   "source": [
    "print(y_pred)"
   ]
  },
  {
   "cell_type": "code",
   "execution_count": 23,
   "id": "0293971a",
   "metadata": {
    "execution": {
     "iopub.execute_input": "2025-04-07T11:27:07.969444Z",
     "iopub.status.busy": "2025-04-07T11:27:07.969105Z",
     "iopub.status.idle": "2025-04-07T11:27:07.985094Z",
     "shell.execute_reply": "2025-04-07T11:27:07.983948Z"
    },
    "papermill": {
     "duration": 0.026001,
     "end_time": "2025-04-07T11:27:07.987170",
     "exception": false,
     "start_time": "2025-04-07T11:27:07.961169",
     "status": "completed"
    },
    "tags": []
   },
   "outputs": [],
   "source": [
    "y_pred= pd.DataFrame(y_pred, columns=['Survived'])\n",
    "sub = pd.concat([df1.PassengerId,y_pred], axis=1)\n",
    "sub.set_index('PassengerId', inplace= True)\n",
    "sub.to_csv(f\"final.csv\")"
   ]
  }
 ],
 "metadata": {
  "kaggle": {
   "accelerator": "none",
   "dataSources": [
    {
     "databundleVersionId": 26502,
     "sourceId": 3136,
     "sourceType": "competition"
    }
   ],
   "dockerImageVersionId": 30918,
   "isGpuEnabled": false,
   "isInternetEnabled": false,
   "language": "python",
   "sourceType": "notebook"
  },
  "kernelspec": {
   "display_name": "Python 3",
   "language": "python",
   "name": "python3"
  },
  "language_info": {
   "codemirror_mode": {
    "name": "ipython",
    "version": 3
   },
   "file_extension": ".py",
   "mimetype": "text/x-python",
   "name": "python",
   "nbconvert_exporter": "python",
   "pygments_lexer": "ipython3",
   "version": "3.10.12"
  },
  "papermill": {
   "default_parameters": {},
   "duration": 8.004133,
   "end_time": "2025-04-07T11:27:08.719247",
   "environment_variables": {},
   "exception": null,
   "input_path": "__notebook__.ipynb",
   "output_path": "__notebook__.ipynb",
   "parameters": {},
   "start_time": "2025-04-07T11:27:00.715114",
   "version": "2.6.0"
  }
 },
 "nbformat": 4,
 "nbformat_minor": 5
}
